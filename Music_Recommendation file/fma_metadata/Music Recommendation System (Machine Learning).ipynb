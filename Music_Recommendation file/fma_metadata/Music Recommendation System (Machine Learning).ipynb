{
 "cells": [
  {
   "cell_type": "markdown",
   "metadata": {},
   "source": [
    "## Music Recommendation System (Machine Learning)"
   ]
  },
  {
   "cell_type": "markdown",
   "metadata": {},
   "source": [
    "This project is aimed upon building a music recommendation system that gives the user recommendations on music based on his music taste by analysing his previously heard music and playlist. This project is done in two ways, using 'User - to - User Recommendation' and 'Item - to - Item Recommendation'. Birch, MiniBatchKMeans and KMeans algorithms are being used along with 'Surprise' module to compute the similarity between recommendations and user's already existing playlist for evaluation"
   ]
  },
  {
   "cell_type": "markdown",
   "metadata": {},
   "source": [
    "### Obtaining Data"
   ]
  },
  {
   "cell_type": "code",
   "execution_count": 1,
   "metadata": {},
   "outputs": [],
   "source": [
    "import pandas as pd\n",
    "import numpy as np"
   ]
  },
  {
   "cell_type": "code",
   "execution_count": 2,
   "metadata": {},
   "outputs": [],
   "source": [
    "final = pd.read_csv('datasets/final/final.csv')\n",
    "metadata = pd.read_csv('datasets/final/metadata.csv')"
   ]
  },
  {
   "cell_type": "markdown",
   "metadata": {},
   "source": [
    "### Model Selection - K Means Algorithm"
   ]
  },
  {
   "cell_type": "code",
   "execution_count": 3,
   "metadata": {},
   "outputs": [],
   "source": [
    "from sklearn.cluster import KMeans\n",
    "from sklearn.utils import shuffle"
   ]
  },
  {
   "cell_type": "code",
   "execution_count": 4,
   "metadata": {},
   "outputs": [],
   "source": [
    "final = shuffle(final)"
   ]
  },
  {
   "cell_type": "code",
   "execution_count": 5,
   "metadata": {},
   "outputs": [],
   "source": [
    "X = final.loc[[i for i in range(0, 6000)]]\n",
    "Y = final.loc[[i for i in range(6000, final.shape[0])]]"
   ]
  },
  {
   "cell_type": "code",
   "execution_count": 6,
   "metadata": {},
   "outputs": [],
   "source": [
    "X = shuffle(X)\n",
    "Y = shuffle(Y)"
   ]
  },
  {
   "cell_type": "code",
   "execution_count": 7,
   "metadata": {
    "scrolled": true
   },
   "outputs": [
    {
     "data": {
      "text/html": [
       "<div>\n",
       "<style scoped>\n",
       "    .dataframe tbody tr th:only-of-type {\n",
       "        vertical-align: middle;\n",
       "    }\n",
       "\n",
       "    .dataframe tbody tr th {\n",
       "        vertical-align: top;\n",
       "    }\n",
       "\n",
       "    .dataframe thead th {\n",
       "        text-align: right;\n",
       "    }\n",
       "</style>\n",
       "<table border=\"1\" class=\"dataframe\">\n",
       "  <thead>\n",
       "    <tr style=\"text-align: right;\">\n",
       "      <th></th>\n",
       "      <th>track_id</th>\n",
       "      <th>album_title</th>\n",
       "      <th>artist_name</th>\n",
       "      <th>genre</th>\n",
       "      <th>track_title</th>\n",
       "    </tr>\n",
       "  </thead>\n",
       "  <tbody>\n",
       "    <tr>\n",
       "      <th>0</th>\n",
       "      <td>2</td>\n",
       "      <td>AWOL - A Way Of Life</td>\n",
       "      <td>AWOL</td>\n",
       "      <td>HipHop</td>\n",
       "      <td>Food</td>\n",
       "    </tr>\n",
       "    <tr>\n",
       "      <th>1</th>\n",
       "      <td>3</td>\n",
       "      <td>AWOL - A Way Of Life</td>\n",
       "      <td>AWOL</td>\n",
       "      <td>HipHop</td>\n",
       "      <td>Electric Ave</td>\n",
       "    </tr>\n",
       "    <tr>\n",
       "      <th>2</th>\n",
       "      <td>5</td>\n",
       "      <td>AWOL - A Way Of Life</td>\n",
       "      <td>AWOL</td>\n",
       "      <td>HipHop</td>\n",
       "      <td>This World</td>\n",
       "    </tr>\n",
       "    <tr>\n",
       "      <th>3</th>\n",
       "      <td>10</td>\n",
       "      <td>Constant Hitmaker</td>\n",
       "      <td>Kurt Vile</td>\n",
       "      <td>Pop</td>\n",
       "      <td>Freeway</td>\n",
       "    </tr>\n",
       "    <tr>\n",
       "      <th>4</th>\n",
       "      <td>134</td>\n",
       "      <td>AWOL - A Way Of Life</td>\n",
       "      <td>AWOL</td>\n",
       "      <td>HipHop</td>\n",
       "      <td>Street Music</td>\n",
       "    </tr>\n",
       "  </tbody>\n",
       "</table>\n",
       "</div>"
      ],
      "text/plain": [
       "   track_id           album_title artist_name   genre   track_title\n",
       "0         2  AWOL - A Way Of Life        AWOL  HipHop          Food\n",
       "1         3  AWOL - A Way Of Life        AWOL  HipHop  Electric Ave\n",
       "2         5  AWOL - A Way Of Life        AWOL  HipHop    This World\n",
       "3        10     Constant Hitmaker   Kurt Vile     Pop       Freeway\n",
       "4       134  AWOL - A Way Of Life        AWOL  HipHop  Street Music"
      ]
     },
     "execution_count": 7,
     "metadata": {},
     "output_type": "execute_result"
    }
   ],
   "source": [
    "metadata.head()"
   ]
  },
  {
   "cell_type": "code",
   "execution_count": 8,
   "metadata": {},
   "outputs": [],
   "source": [
    "metadata = metadata.set_index('track_id')"
   ]
  },
  {
   "cell_type": "code",
   "execution_count": 9,
   "metadata": {},
   "outputs": [],
   "source": [
    "# X.drop(['label'], axis= 1, inplace= True)"
   ]
  },
  {
   "cell_type": "code",
   "execution_count": 10,
   "metadata": {
    "scrolled": false
   },
   "outputs": [],
   "source": [
    "kmeans = KMeans(n_clusters=6)"
   ]
  },
  {
   "cell_type": "code",
   "execution_count": 11,
   "metadata": {},
   "outputs": [],
   "source": [
    "# data['Cluster'] = kmeans.labels_\n",
    "# data['Cluster'].sample(n=10)"
   ]
  },
  {
   "cell_type": "code",
   "execution_count": 12,
   "metadata": {},
   "outputs": [
    {
     "data": {
      "text/html": [
       "<div>\n",
       "<style scoped>\n",
       "    .dataframe tbody tr th:only-of-type {\n",
       "        vertical-align: middle;\n",
       "    }\n",
       "\n",
       "    .dataframe tbody tr th {\n",
       "        vertical-align: top;\n",
       "    }\n",
       "\n",
       "    .dataframe thead th {\n",
       "        text-align: right;\n",
       "    }\n",
       "</style>\n",
       "<table border=\"1\" class=\"dataframe\">\n",
       "  <thead>\n",
       "    <tr style=\"text-align: right;\">\n",
       "      <th></th>\n",
       "      <th>Unnamed: 0</th>\n",
       "      <th>track_id</th>\n",
       "      <th>acousticness</th>\n",
       "      <th>danceability</th>\n",
       "      <th>energy</th>\n",
       "      <th>instrumentalness</th>\n",
       "      <th>liveness</th>\n",
       "      <th>speechiness</th>\n",
       "      <th>tempo</th>\n",
       "      <th>valence</th>\n",
       "      <th>...</th>\n",
       "      <th>Holiday</th>\n",
       "      <th>Salsa</th>\n",
       "      <th>NuJazz</th>\n",
       "      <th>HipHop Beats</th>\n",
       "      <th>Modern Jazz</th>\n",
       "      <th>Turkish</th>\n",
       "      <th>Tango</th>\n",
       "      <th>Fado</th>\n",
       "      <th>Christmas</th>\n",
       "      <th>Instrumental</th>\n",
       "    </tr>\n",
       "  </thead>\n",
       "  <tbody>\n",
       "    <tr>\n",
       "      <th>10401</th>\n",
       "      <td>10401</td>\n",
       "      <td>48263</td>\n",
       "      <td>0.389023</td>\n",
       "      <td>0.440180</td>\n",
       "      <td>0.664774</td>\n",
       "      <td>0.828462</td>\n",
       "      <td>0.089983</td>\n",
       "      <td>0.034304</td>\n",
       "      <td>113.975</td>\n",
       "      <td>0.684336</td>\n",
       "      <td>...</td>\n",
       "      <td>0.0</td>\n",
       "      <td>0.0</td>\n",
       "      <td>0.0</td>\n",
       "      <td>0.0</td>\n",
       "      <td>0.0</td>\n",
       "      <td>0.0</td>\n",
       "      <td>0.0</td>\n",
       "      <td>0.0</td>\n",
       "      <td>0.0</td>\n",
       "      <td>0.0</td>\n",
       "    </tr>\n",
       "    <tr>\n",
       "      <th>7682</th>\n",
       "      <td>7682</td>\n",
       "      <td>33137</td>\n",
       "      <td>0.086819</td>\n",
       "      <td>0.677494</td>\n",
       "      <td>0.825255</td>\n",
       "      <td>0.663946</td>\n",
       "      <td>0.368027</td>\n",
       "      <td>0.193311</td>\n",
       "      <td>87.508</td>\n",
       "      <td>0.669390</td>\n",
       "      <td>...</td>\n",
       "      <td>0.0</td>\n",
       "      <td>0.0</td>\n",
       "      <td>0.0</td>\n",
       "      <td>0.0</td>\n",
       "      <td>0.0</td>\n",
       "      <td>0.0</td>\n",
       "      <td>0.0</td>\n",
       "      <td>0.0</td>\n",
       "      <td>0.0</td>\n",
       "      <td>0.0</td>\n",
       "    </tr>\n",
       "    <tr>\n",
       "      <th>7579</th>\n",
       "      <td>7579</td>\n",
       "      <td>32875</td>\n",
       "      <td>0.668297</td>\n",
       "      <td>0.577910</td>\n",
       "      <td>0.787367</td>\n",
       "      <td>0.000667</td>\n",
       "      <td>0.114019</td>\n",
       "      <td>0.116422</td>\n",
       "      <td>102.859</td>\n",
       "      <td>0.362615</td>\n",
       "      <td>...</td>\n",
       "      <td>0.0</td>\n",
       "      <td>0.0</td>\n",
       "      <td>0.0</td>\n",
       "      <td>0.0</td>\n",
       "      <td>0.0</td>\n",
       "      <td>0.0</td>\n",
       "      <td>0.0</td>\n",
       "      <td>0.0</td>\n",
       "      <td>0.0</td>\n",
       "      <td>0.0</td>\n",
       "    </tr>\n",
       "    <tr>\n",
       "      <th>8656</th>\n",
       "      <td>8656</td>\n",
       "      <td>38767</td>\n",
       "      <td>0.241785</td>\n",
       "      <td>0.412119</td>\n",
       "      <td>0.388090</td>\n",
       "      <td>0.903038</td>\n",
       "      <td>0.096951</td>\n",
       "      <td>0.044921</td>\n",
       "      <td>93.203</td>\n",
       "      <td>0.296774</td>\n",
       "      <td>...</td>\n",
       "      <td>0.0</td>\n",
       "      <td>0.0</td>\n",
       "      <td>0.0</td>\n",
       "      <td>0.0</td>\n",
       "      <td>0.0</td>\n",
       "      <td>0.0</td>\n",
       "      <td>0.0</td>\n",
       "      <td>0.0</td>\n",
       "      <td>0.0</td>\n",
       "      <td>0.0</td>\n",
       "    </tr>\n",
       "    <tr>\n",
       "      <th>10885</th>\n",
       "      <td>10885</td>\n",
       "      <td>51206</td>\n",
       "      <td>0.001354</td>\n",
       "      <td>0.598659</td>\n",
       "      <td>0.766626</td>\n",
       "      <td>0.000081</td>\n",
       "      <td>0.409981</td>\n",
       "      <td>0.032713</td>\n",
       "      <td>129.957</td>\n",
       "      <td>0.247469</td>\n",
       "      <td>...</td>\n",
       "      <td>0.0</td>\n",
       "      <td>0.0</td>\n",
       "      <td>0.0</td>\n",
       "      <td>0.0</td>\n",
       "      <td>0.0</td>\n",
       "      <td>0.0</td>\n",
       "      <td>0.0</td>\n",
       "      <td>0.0</td>\n",
       "      <td>0.0</td>\n",
       "      <td>0.0</td>\n",
       "    </tr>\n",
       "  </tbody>\n",
       "</table>\n",
       "<p>5 rows × 930 columns</p>\n",
       "</div>"
      ],
      "text/plain": [
       "       Unnamed: 0  track_id  acousticness  danceability    energy  \\\n",
       "10401       10401     48263      0.389023      0.440180  0.664774   \n",
       "7682         7682     33137      0.086819      0.677494  0.825255   \n",
       "7579         7579     32875      0.668297      0.577910  0.787367   \n",
       "8656         8656     38767      0.241785      0.412119  0.388090   \n",
       "10885       10885     51206      0.001354      0.598659  0.766626   \n",
       "\n",
       "       instrumentalness  liveness  speechiness    tempo   valence  ...  \\\n",
       "10401          0.828462  0.089983     0.034304  113.975  0.684336  ...   \n",
       "7682           0.663946  0.368027     0.193311   87.508  0.669390  ...   \n",
       "7579           0.000667  0.114019     0.116422  102.859  0.362615  ...   \n",
       "8656           0.903038  0.096951     0.044921   93.203  0.296774  ...   \n",
       "10885          0.000081  0.409981     0.032713  129.957  0.247469  ...   \n",
       "\n",
       "       Holiday  Salsa  NuJazz  HipHop Beats  Modern Jazz  Turkish  Tango  \\\n",
       "10401      0.0    0.0     0.0           0.0          0.0      0.0    0.0   \n",
       "7682       0.0    0.0     0.0           0.0          0.0      0.0    0.0   \n",
       "7579       0.0    0.0     0.0           0.0          0.0      0.0    0.0   \n",
       "8656       0.0    0.0     0.0           0.0          0.0      0.0    0.0   \n",
       "10885      0.0    0.0     0.0           0.0          0.0      0.0    0.0   \n",
       "\n",
       "       Fado  Christmas  Instrumental  \n",
       "10401   0.0        0.0           0.0  \n",
       "7682    0.0        0.0           0.0  \n",
       "7579    0.0        0.0           0.0  \n",
       "8656    0.0        0.0           0.0  \n",
       "10885   0.0        0.0           0.0  \n",
       "\n",
       "[5 rows x 930 columns]"
      ]
     },
     "execution_count": 12,
     "metadata": {},
     "output_type": "execute_result"
    }
   ],
   "source": [
    "Y.head()"
   ]
  },
  {
   "cell_type": "code",
   "execution_count": 13,
   "metadata": {},
   "outputs": [],
   "source": [
    "def fit(df, algo, flag=0):\n",
    "    if flag:\n",
    "        algo.fit(df)\n",
    "    else:\n",
    "         algo.partial_fit(df)          \n",
    "    df['label'] = algo.labels_\n",
    "    return (df, algo)"
   ]
  },
  {
   "cell_type": "code",
   "execution_count": 14,
   "metadata": {},
   "outputs": [],
   "source": [
    "def predict(t, Y):\n",
    "    y_pred = t[1].predict(Y)\n",
    "    mode = pd.Series(y_pred).mode()\n",
    "    return t[0][t[0]['label'] == mode.loc[0]]"
   ]
  },
  {
   "cell_type": "code",
   "execution_count": 15,
   "metadata": {},
   "outputs": [],
   "source": [
    "def recommend(recommendations, meta, Y):\n",
    "    dat = []\n",
    "    for i in Y['track_id']:\n",
    "        dat.append(i)\n",
    "    genre_mode = meta.loc[dat]['genre'].mode()\n",
    "    artist_mode = meta.loc[dat]['artist_name'].mode()\n",
    "    return meta[meta['genre'] == genre_mode.iloc[0]], meta[meta['artist_name'] == artist_mode.iloc[0]], meta.loc[recommendations['track_id']]"
   ]
  },
  {
   "cell_type": "code",
   "execution_count": 16,
   "metadata": {},
   "outputs": [],
   "source": [
    "t = fit(X, kmeans, 1)"
   ]
  },
  {
   "cell_type": "code",
   "execution_count": 17,
   "metadata": {},
   "outputs": [],
   "source": [
    "recommendations = predict(t, Y)"
   ]
  },
  {
   "cell_type": "code",
   "execution_count": 18,
   "metadata": {},
   "outputs": [
    {
     "data": {
      "text/plain": [
       "(                      album_title                              artist_name  \\\n",
       " track_id                                                                     \n",
       " 153                Arc and Sender                           Arc and Sender   \n",
       " 154                Arc and Sender                           Arc and Sender   \n",
       " 155               unreleased demo                           Arc and Sender   \n",
       " 169                  Boss of Goth                               Argumentix   \n",
       " 170                  Nightmarcher                               Argumentix   \n",
       " ...                           ...                                      ...   \n",
       " 123823                      Vazio  E A Terra Nunca Me Pareceu Tão Distante   \n",
       " 123824                      Vazio  E A Terra Nunca Me Pareceu Tão Distante   \n",
       " 124184    Pseudologia Phantastica                                 Bloodgod   \n",
       " 124185    Pseudologia Phantastica                                 Bloodgod   \n",
       " 124186    Pseudologia Phantastica                                 Bloodgod   \n",
       " \n",
       "          genre                                    track_title  \n",
       " track_id                                                       \n",
       " 153       Rock                             Hundred-Year Flood  \n",
       " 154       Rock                            Squares And Circles  \n",
       " 155       Rock                        Maps of the Stars Homes  \n",
       " 169       Rock                                   Boss of Goth  \n",
       " 170       Rock                     Industry Standard Massacre  \n",
       " ...        ...                                            ...  \n",
       " 123823    Rock                                  Janela Aberta  \n",
       " 123824    Rock  Quando Vão Saber Que Já Apanhei o Suficiente?  \n",
       " 124184    Rock                                          Heist  \n",
       " 124185    Rock                         Wrecking Ball Surprise  \n",
       " 124186    Rock                                       Bloodgod  \n",
       " \n",
       " [3892 rows x 4 columns],\n",
       "                     album_title artist_name  \\\n",
       " track_id                                      \n",
       " 34660                      Zehu         51%   \n",
       " 34661                      Zehu         51%   \n",
       " 34662                      Zehu         51%   \n",
       " 34663                      Zehu         51%   \n",
       " 34664                      Zehu         51%   \n",
       " 34665                      Zehu         51%   \n",
       " 34666                      Zehu         51%   \n",
       " 34667                      Zehu         51%   \n",
       " 34668                      Zehu         51%   \n",
       " 34669                      Zehu         51%   \n",
       " 34670                      Zehu         51%   \n",
       " 34671                      Zehu         51%   \n",
       " 34672                      Zehu         51%   \n",
       " 34673                      Zehu         51%   \n",
       " 34688     Songs From The Boidem         51%   \n",
       " 34689     Songs From The Boidem         51%   \n",
       " 34690     Songs From The Boidem         51%   \n",
       " 34691     Songs From The Boidem         51%   \n",
       " 34692     Songs From The Boidem         51%   \n",
       " 34693     Songs From The Boidem         51%   \n",
       " 34694     Songs From The Boidem         51%   \n",
       " 34695     Songs From The Boidem         51%   \n",
       " 34696     Songs From The Boidem         51%   \n",
       " 34697     Songs From The Boidem         51%   \n",
       " 34698     Songs From The Boidem         51%   \n",
       " 34699     Songs From The Boidem         51%   \n",
       " 34700     Songs From The Boidem         51%   \n",
       " 34701     Songs From The Boidem         51%   \n",
       " 34702     Songs From The Boidem         51%   \n",
       " 34703     Songs From The Boidem         51%   \n",
       " 34704     Songs From The Boidem         51%   \n",
       " 34705     Songs From The Boidem         51%   \n",
       " 34706     Songs From The Boidem         51%   \n",
       " 34707     Songs From The Boidem         51%   \n",
       " 34708     Songs From The Boidem         51%   \n",
       " 34709     Songs From The Boidem         51%   \n",
       " 34710     Songs From The Boidem         51%   \n",
       " 34711     Songs From The Boidem         51%   \n",
       " 35947                       51%         51%   \n",
       " 35948                       51%         51%   \n",
       " 35949                       51%         51%   \n",
       " 35950                       51%         51%   \n",
       " 35951                       51%         51%   \n",
       " 35952                       51%         51%   \n",
       " 35953                       51%         51%   \n",
       " 35954                       51%         51%   \n",
       " 35955                       51%         51%   \n",
       " 35956                       51%         51%   \n",
       " 35957                       51%         51%   \n",
       " 35958                       51%         51%   \n",
       " 35959                       51%         51%   \n",
       " 35960                       51%         51%   \n",
       " \n",
       "                                          genre  \\\n",
       " track_id                                         \n",
       " 34660     AvantGarde|International|Blues|Jazz|   \n",
       " 34661     AvantGarde|International|Blues|Jazz|   \n",
       " 34662     AvantGarde|International|Blues|Jazz|   \n",
       " 34663     AvantGarde|International|Blues|Jazz|   \n",
       " 34664     AvantGarde|International|Blues|Jazz|   \n",
       " 34665     AvantGarde|International|Blues|Jazz|   \n",
       " 34666     AvantGarde|International|Blues|Jazz|   \n",
       " 34667     AvantGarde|International|Blues|Jazz|   \n",
       " 34668     AvantGarde|International|Blues|Jazz|   \n",
       " 34669     AvantGarde|International|Blues|Jazz|   \n",
       " 34670     AvantGarde|International|Blues|Jazz|   \n",
       " 34671     AvantGarde|International|Blues|Jazz|   \n",
       " 34672     AvantGarde|International|Blues|Jazz|   \n",
       " 34673     AvantGarde|International|Blues|Jazz|   \n",
       " 34688     AvantGarde|International|Blues|Jazz|   \n",
       " 34689     AvantGarde|International|Blues|Jazz|   \n",
       " 34690     AvantGarde|International|Blues|Jazz|   \n",
       " 34691     AvantGarde|International|Blues|Jazz|   \n",
       " 34692     AvantGarde|International|Blues|Jazz|   \n",
       " 34693     AvantGarde|International|Blues|Jazz|   \n",
       " 34694     AvantGarde|International|Blues|Jazz|   \n",
       " 34695     AvantGarde|International|Blues|Jazz|   \n",
       " 34696     AvantGarde|International|Blues|Jazz|   \n",
       " 34697     AvantGarde|International|Blues|Jazz|   \n",
       " 34698     AvantGarde|International|Blues|Jazz|   \n",
       " 34699     AvantGarde|International|Blues|Jazz|   \n",
       " 34700     AvantGarde|International|Blues|Jazz|   \n",
       " 34701     AvantGarde|International|Blues|Jazz|   \n",
       " 34702     AvantGarde|International|Blues|Jazz|   \n",
       " 34703     AvantGarde|International|Blues|Jazz|   \n",
       " 34704     AvantGarde|International|Blues|Jazz|   \n",
       " 34705     AvantGarde|International|Blues|Jazz|   \n",
       " 34706     AvantGarde|International|Blues|Jazz|   \n",
       " 34707     AvantGarde|International|Blues|Jazz|   \n",
       " 34708     AvantGarde|International|Blues|Jazz|   \n",
       " 34709     AvantGarde|International|Blues|Jazz|   \n",
       " 34710     AvantGarde|International|Blues|Jazz|   \n",
       " 34711     AvantGarde|International|Blues|Jazz|   \n",
       " 35947          AvantGarde|International|Blues|   \n",
       " 35948          AvantGarde|International|Blues|   \n",
       " 35949          AvantGarde|International|Blues|   \n",
       " 35950          AvantGarde|International|Blues|   \n",
       " 35951          AvantGarde|International|Blues|   \n",
       " 35952          AvantGarde|International|Blues|   \n",
       " 35953          AvantGarde|International|Blues|   \n",
       " 35954          AvantGarde|International|Blues|   \n",
       " 35955          AvantGarde|International|Blues|   \n",
       " 35956          AvantGarde|International|Blues|   \n",
       " 35957          AvantGarde|International|Blues|   \n",
       " 35958          AvantGarde|International|Blues|   \n",
       " 35959          AvantGarde|International|Blues|   \n",
       " 35960          AvantGarde|International|Blues|   \n",
       " \n",
       "                                                 track_title  \n",
       " track_id                                                     \n",
       " 34660                                          Hadri Ha'Kat  \n",
       " 34661                                       Blender Tzivoni  \n",
       " 34662                                                Naniah  \n",
       " 34663                                           Yoter Miday  \n",
       " 34664                                         Yamim, Lielot  \n",
       " 34665                                                Menusa  \n",
       " 34666                                            Boom Trah!  \n",
       " 34667                                       Mefursam Maspik  \n",
       " 34668                                                Joseph  \n",
       " 34669                                             Ma Halaa?  \n",
       " 34670                                          Photo Retzah  \n",
       " 34671                                    Boreach Meachrayut  \n",
       " 34672                            Hip Hop Haras Li Et Hahaim  \n",
       " 34673                                       Mevatrim Merosh  \n",
       " 34688                             Joseph - Nina Simon Remix  \n",
       " 34689                                    51% - People Remix  \n",
       " 34690                                           51% - Intro  \n",
       " 34691                          The Archive - Mehapes Meever  \n",
       " 34692                                Avi AShkenazi - Asfalt  \n",
       " 34693                          Taboo+ - Mehunyot Mitnagshot  \n",
       " 34694                               The Archive - Ken Betah  \n",
       " 34695                                    Taboo+ - Nitzotzot  \n",
       " 34696                       51% - Neelamti Mimnoey Ha'Hipus  \n",
       " 34697                      The Archive - Zot Rak Ha'Hathala  \n",
       " 34698                                 Taboo+ - Siman Sheela  \n",
       " 34699                           The Archive - Ten Li Lizrom  \n",
       " 34700                                 51% - Lo Kaze Dramati  \n",
       " 34701                       The Archive - Yesh Lean Lalehet  \n",
       " 34702                                       Taboo+ - Tfarim  \n",
       " 34703                                     51% - Gladiatorim  \n",
       " 34704                           Avi AShkenazi - Yofi Meuvat  \n",
       " 34705                           Taboo+ - Halomot Megushamim  \n",
       " 34706                          The Archive - Shivuy Mishkal  \n",
       " 34707                                 51% - Mashehu Lehagid  \n",
       " 34708                               Avi Golzman - 24 Shurot  \n",
       " 34709                        The Archive - Ha'Yeled Mitorer  \n",
       " 34710                               The Archive - Ma Yihiye  \n",
       " 34711     Avi Asheknazi & Taboo Plus - Matzav Movil Le M...  \n",
       " 35947                                               Fade-In  \n",
       " 35948                                            4 Rapperim  \n",
       " 35949                                                   51%  \n",
       " 35950                                          Mebit Gavoha  \n",
       " 35951                                              Kol Ehad  \n",
       " 35952                                                  Skit  \n",
       " 35953                                         Lipol Lemaala  \n",
       " 35954                                          Lama Ta Stam  \n",
       " 35955                                       Elohim Ma Asinu  \n",
       " 35956                                           Sof Ha'Olam  \n",
       " 35957                                      Taazru Et Ha'Eer  \n",
       " 35958                            Ha'Shir Ha'Hu Im Hapsanter  \n",
       " 35959                                              Fade-Out  \n",
       " 35960                                       Hatahazit Remix  ,\n",
       "                                                 album_title  \\\n",
       " track_id                                                      \n",
       " 14795                                          Philly Time!   \n",
       " 23979                                               bambada   \n",
       " 23978                                               bambada   \n",
       " 23078                                             Halloween   \n",
       " 20001                                 Embered Recollections   \n",
       " ...                                                     ...   \n",
       " 12524     netBloc Vol. 14: Kills 99.9% of Bacterium Popp...   \n",
       " 13647     netBloc Vol. 02: DRM killed the music-product ...   \n",
       " 14543                            Everybody Loves the Sun EP   \n",
       " 19979               Kate Power & Steve Einhorn Live on KBOO   \n",
       " 14541                            Everybody Loves the Sun EP   \n",
       " \n",
       "                          artist_name                            genre  \\\n",
       " track_id                                                                \n",
       " 14795                     Pink Skull                       Electronic   \n",
       " 23979                         uiutna                       Electronic   \n",
       " 23978                         uiutna                       Electronic   \n",
       " 23078                           BLOB                             Jazz   \n",
       " 20001                     Heosphoros        AvantGarde|International|   \n",
       " ...                              ...                              ...   \n",
       " 12524       The Kazoo Funk Orchestra  AvantGarde|International|Blues|   \n",
       " 13647               Frivolous vs DJG                       Electronic   \n",
       " 14543                           Opio                           HipHop   \n",
       " 19979     Kate Power & Steve Einhorn                             Folk   \n",
       " 14541                           Opio                           HipHop   \n",
       " \n",
       "                                    track_title  \n",
       " track_id                                        \n",
       " 14795                               choco taco  \n",
       " 23979                                    MZ001  \n",
       " 23978                       all the crocodiles  \n",
       " 23078                               Stone Cold  \n",
       " 20001     Tree of Daath (Divinity and Freedom)  \n",
       " ...                                        ...  \n",
       " 12524                         The Second Slice  \n",
       " 13647                        Kisses (.v3 Edit)  \n",
       " 14543                                Cherished  \n",
       " 19979                                  Wallowa  \n",
       " 14541                                Different  \n",
       " \n",
       " [1142 rows x 4 columns])"
      ]
     },
     "execution_count": 18,
     "metadata": {},
     "output_type": "execute_result"
    }
   ],
   "source": [
    "output = recommend(recommendations, metadata, Y)\n",
    "output"
   ]
  },
  {
   "cell_type": "code",
   "execution_count": 19,
   "metadata": {},
   "outputs": [],
   "source": [
    "genre_recommend, artist_name_recommend, mixed_recommend = output[0], output[1], output[2]"
   ]
  },
  {
   "cell_type": "code",
   "execution_count": 20,
   "metadata": {},
   "outputs": [
    {
     "data": {
      "text/plain": [
       "(3892, 4)"
      ]
     },
     "execution_count": 20,
     "metadata": {},
     "output_type": "execute_result"
    }
   ],
   "source": [
    "genre_recommend.shape"
   ]
  },
  {
   "cell_type": "code",
   "execution_count": 21,
   "metadata": {},
   "outputs": [
    {
     "data": {
      "text/plain": [
       "(52, 4)"
      ]
     },
     "execution_count": 21,
     "metadata": {},
     "output_type": "execute_result"
    }
   ],
   "source": [
    "artist_name_recommend.shape"
   ]
  },
  {
   "cell_type": "code",
   "execution_count": 22,
   "metadata": {},
   "outputs": [
    {
     "data": {
      "text/plain": [
       "(1142, 4)"
      ]
     },
     "execution_count": 22,
     "metadata": {},
     "output_type": "execute_result"
    }
   ],
   "source": [
    "mixed_recommend.shape"
   ]
  },
  {
   "cell_type": "code",
   "execution_count": 23,
   "metadata": {},
   "outputs": [
    {
     "data": {
      "text/html": [
       "<div>\n",
       "<style scoped>\n",
       "    .dataframe tbody tr th:only-of-type {\n",
       "        vertical-align: middle;\n",
       "    }\n",
       "\n",
       "    .dataframe tbody tr th {\n",
       "        vertical-align: top;\n",
       "    }\n",
       "\n",
       "    .dataframe thead th {\n",
       "        text-align: right;\n",
       "    }\n",
       "</style>\n",
       "<table border=\"1\" class=\"dataframe\">\n",
       "  <thead>\n",
       "    <tr style=\"text-align: right;\">\n",
       "      <th></th>\n",
       "      <th>album_title</th>\n",
       "      <th>artist_name</th>\n",
       "      <th>genre</th>\n",
       "      <th>track_title</th>\n",
       "    </tr>\n",
       "    <tr>\n",
       "      <th>track_id</th>\n",
       "      <th></th>\n",
       "      <th></th>\n",
       "      <th></th>\n",
       "      <th></th>\n",
       "    </tr>\n",
       "  </thead>\n",
       "  <tbody>\n",
       "    <tr>\n",
       "      <th>153</th>\n",
       "      <td>Arc and Sender</td>\n",
       "      <td>Arc and Sender</td>\n",
       "      <td>Rock</td>\n",
       "      <td>Hundred-Year Flood</td>\n",
       "    </tr>\n",
       "    <tr>\n",
       "      <th>154</th>\n",
       "      <td>Arc and Sender</td>\n",
       "      <td>Arc and Sender</td>\n",
       "      <td>Rock</td>\n",
       "      <td>Squares And Circles</td>\n",
       "    </tr>\n",
       "    <tr>\n",
       "      <th>155</th>\n",
       "      <td>unreleased demo</td>\n",
       "      <td>Arc and Sender</td>\n",
       "      <td>Rock</td>\n",
       "      <td>Maps of the Stars Homes</td>\n",
       "    </tr>\n",
       "    <tr>\n",
       "      <th>169</th>\n",
       "      <td>Boss of Goth</td>\n",
       "      <td>Argumentix</td>\n",
       "      <td>Rock</td>\n",
       "      <td>Boss of Goth</td>\n",
       "    </tr>\n",
       "    <tr>\n",
       "      <th>170</th>\n",
       "      <td>Nightmarcher</td>\n",
       "      <td>Argumentix</td>\n",
       "      <td>Rock</td>\n",
       "      <td>Industry Standard Massacre</td>\n",
       "    </tr>\n",
       "  </tbody>\n",
       "</table>\n",
       "</div>"
      ],
      "text/plain": [
       "              album_title     artist_name genre                 track_title\n",
       "track_id                                                                   \n",
       "153        Arc and Sender  Arc and Sender  Rock          Hundred-Year Flood\n",
       "154        Arc and Sender  Arc and Sender  Rock         Squares And Circles\n",
       "155       unreleased demo  Arc and Sender  Rock     Maps of the Stars Homes\n",
       "169          Boss of Goth      Argumentix  Rock                Boss of Goth\n",
       "170          Nightmarcher      Argumentix  Rock  Industry Standard Massacre"
      ]
     },
     "execution_count": 23,
     "metadata": {},
     "output_type": "execute_result"
    }
   ],
   "source": [
    "# Genre wise recommendations\n",
    "genre_recommend.head()"
   ]
  },
  {
   "cell_type": "code",
   "execution_count": 24,
   "metadata": {
    "scrolled": true
   },
   "outputs": [
    {
     "data": {
      "text/html": [
       "<div>\n",
       "<style scoped>\n",
       "    .dataframe tbody tr th:only-of-type {\n",
       "        vertical-align: middle;\n",
       "    }\n",
       "\n",
       "    .dataframe tbody tr th {\n",
       "        vertical-align: top;\n",
       "    }\n",
       "\n",
       "    .dataframe thead th {\n",
       "        text-align: right;\n",
       "    }\n",
       "</style>\n",
       "<table border=\"1\" class=\"dataframe\">\n",
       "  <thead>\n",
       "    <tr style=\"text-align: right;\">\n",
       "      <th></th>\n",
       "      <th>album_title</th>\n",
       "      <th>artist_name</th>\n",
       "      <th>genre</th>\n",
       "      <th>track_title</th>\n",
       "    </tr>\n",
       "    <tr>\n",
       "      <th>track_id</th>\n",
       "      <th></th>\n",
       "      <th></th>\n",
       "      <th></th>\n",
       "      <th></th>\n",
       "    </tr>\n",
       "  </thead>\n",
       "  <tbody>\n",
       "    <tr>\n",
       "      <th>34660</th>\n",
       "      <td>Zehu</td>\n",
       "      <td>51%</td>\n",
       "      <td>AvantGarde|International|Blues|Jazz|</td>\n",
       "      <td>Hadri Ha'Kat</td>\n",
       "    </tr>\n",
       "    <tr>\n",
       "      <th>34661</th>\n",
       "      <td>Zehu</td>\n",
       "      <td>51%</td>\n",
       "      <td>AvantGarde|International|Blues|Jazz|</td>\n",
       "      <td>Blender Tzivoni</td>\n",
       "    </tr>\n",
       "    <tr>\n",
       "      <th>34662</th>\n",
       "      <td>Zehu</td>\n",
       "      <td>51%</td>\n",
       "      <td>AvantGarde|International|Blues|Jazz|</td>\n",
       "      <td>Naniah</td>\n",
       "    </tr>\n",
       "    <tr>\n",
       "      <th>34663</th>\n",
       "      <td>Zehu</td>\n",
       "      <td>51%</td>\n",
       "      <td>AvantGarde|International|Blues|Jazz|</td>\n",
       "      <td>Yoter Miday</td>\n",
       "    </tr>\n",
       "    <tr>\n",
       "      <th>34664</th>\n",
       "      <td>Zehu</td>\n",
       "      <td>51%</td>\n",
       "      <td>AvantGarde|International|Blues|Jazz|</td>\n",
       "      <td>Yamim, Lielot</td>\n",
       "    </tr>\n",
       "  </tbody>\n",
       "</table>\n",
       "</div>"
      ],
      "text/plain": [
       "         album_title artist_name                                 genre  \\\n",
       "track_id                                                                 \n",
       "34660           Zehu         51%  AvantGarde|International|Blues|Jazz|   \n",
       "34661           Zehu         51%  AvantGarde|International|Blues|Jazz|   \n",
       "34662           Zehu         51%  AvantGarde|International|Blues|Jazz|   \n",
       "34663           Zehu         51%  AvantGarde|International|Blues|Jazz|   \n",
       "34664           Zehu         51%  AvantGarde|International|Blues|Jazz|   \n",
       "\n",
       "              track_title  \n",
       "track_id                   \n",
       "34660        Hadri Ha'Kat  \n",
       "34661     Blender Tzivoni  \n",
       "34662              Naniah  \n",
       "34663         Yoter Miday  \n",
       "34664       Yamim, Lielot  "
      ]
     },
     "execution_count": 24,
     "metadata": {},
     "output_type": "execute_result"
    }
   ],
   "source": [
    "# Artist wise recommendations\n",
    "artist_name_recommend.head()"
   ]
  },
  {
   "cell_type": "code",
   "execution_count": 25,
   "metadata": {},
   "outputs": [
    {
     "data": {
      "text/html": [
       "<div>\n",
       "<style scoped>\n",
       "    .dataframe tbody tr th:only-of-type {\n",
       "        vertical-align: middle;\n",
       "    }\n",
       "\n",
       "    .dataframe tbody tr th {\n",
       "        vertical-align: top;\n",
       "    }\n",
       "\n",
       "    .dataframe thead th {\n",
       "        text-align: right;\n",
       "    }\n",
       "</style>\n",
       "<table border=\"1\" class=\"dataframe\">\n",
       "  <thead>\n",
       "    <tr style=\"text-align: right;\">\n",
       "      <th></th>\n",
       "      <th>album_title</th>\n",
       "      <th>artist_name</th>\n",
       "      <th>genre</th>\n",
       "      <th>track_title</th>\n",
       "    </tr>\n",
       "    <tr>\n",
       "      <th>track_id</th>\n",
       "      <th></th>\n",
       "      <th></th>\n",
       "      <th></th>\n",
       "      <th></th>\n",
       "    </tr>\n",
       "  </thead>\n",
       "  <tbody>\n",
       "    <tr>\n",
       "      <th>14795</th>\n",
       "      <td>Philly Time!</td>\n",
       "      <td>Pink Skull</td>\n",
       "      <td>Electronic</td>\n",
       "      <td>choco taco</td>\n",
       "    </tr>\n",
       "    <tr>\n",
       "      <th>23979</th>\n",
       "      <td>bambada</td>\n",
       "      <td>uiutna</td>\n",
       "      <td>Electronic</td>\n",
       "      <td>MZ001</td>\n",
       "    </tr>\n",
       "    <tr>\n",
       "      <th>23978</th>\n",
       "      <td>bambada</td>\n",
       "      <td>uiutna</td>\n",
       "      <td>Electronic</td>\n",
       "      <td>all the crocodiles</td>\n",
       "    </tr>\n",
       "    <tr>\n",
       "      <th>23078</th>\n",
       "      <td>Halloween</td>\n",
       "      <td>BLOB</td>\n",
       "      <td>Jazz</td>\n",
       "      <td>Stone Cold</td>\n",
       "    </tr>\n",
       "    <tr>\n",
       "      <th>20001</th>\n",
       "      <td>Embered Recollections</td>\n",
       "      <td>Heosphoros</td>\n",
       "      <td>AvantGarde|International|</td>\n",
       "      <td>Tree of Daath (Divinity and Freedom)</td>\n",
       "    </tr>\n",
       "  </tbody>\n",
       "</table>\n",
       "</div>"
      ],
      "text/plain": [
       "                    album_title artist_name                      genre  \\\n",
       "track_id                                                                 \n",
       "14795              Philly Time!  Pink Skull                 Electronic   \n",
       "23979                   bambada      uiutna                 Electronic   \n",
       "23978                   bambada      uiutna                 Electronic   \n",
       "23078                 Halloween        BLOB                       Jazz   \n",
       "20001     Embered Recollections  Heosphoros  AvantGarde|International|   \n",
       "\n",
       "                                   track_title  \n",
       "track_id                                        \n",
       "14795                               choco taco  \n",
       "23979                                    MZ001  \n",
       "23978                       all the crocodiles  \n",
       "23078                               Stone Cold  \n",
       "20001     Tree of Daath (Divinity and Freedom)  "
      ]
     },
     "execution_count": 25,
     "metadata": {},
     "output_type": "execute_result"
    }
   ],
   "source": [
    "# Mixed Recommendations\n",
    "mixed_recommend.head()"
   ]
  },
  {
   "cell_type": "code",
   "execution_count": 26,
   "metadata": {},
   "outputs": [
    {
     "data": {
      "text/html": [
       "<div>\n",
       "<style scoped>\n",
       "    .dataframe tbody tr th:only-of-type {\n",
       "        vertical-align: middle;\n",
       "    }\n",
       "\n",
       "    .dataframe tbody tr th {\n",
       "        vertical-align: top;\n",
       "    }\n",
       "\n",
       "    .dataframe thead th {\n",
       "        text-align: right;\n",
       "    }\n",
       "</style>\n",
       "<table border=\"1\" class=\"dataframe\">\n",
       "  <thead>\n",
       "    <tr style=\"text-align: right;\">\n",
       "      <th></th>\n",
       "      <th>Unnamed: 0</th>\n",
       "      <th>track_id</th>\n",
       "      <th>acousticness</th>\n",
       "      <th>danceability</th>\n",
       "      <th>energy</th>\n",
       "      <th>instrumentalness</th>\n",
       "      <th>liveness</th>\n",
       "      <th>speechiness</th>\n",
       "      <th>tempo</th>\n",
       "      <th>valence</th>\n",
       "      <th>...</th>\n",
       "      <th>Salsa</th>\n",
       "      <th>NuJazz</th>\n",
       "      <th>HipHop Beats</th>\n",
       "      <th>Modern Jazz</th>\n",
       "      <th>Turkish</th>\n",
       "      <th>Tango</th>\n",
       "      <th>Fado</th>\n",
       "      <th>Christmas</th>\n",
       "      <th>Instrumental</th>\n",
       "      <th>label</th>\n",
       "    </tr>\n",
       "  </thead>\n",
       "  <tbody>\n",
       "    <tr>\n",
       "      <th>3761</th>\n",
       "      <td>3761</td>\n",
       "      <td>14795</td>\n",
       "      <td>0.041038</td>\n",
       "      <td>0.921934</td>\n",
       "      <td>0.654352</td>\n",
       "      <td>0.838161</td>\n",
       "      <td>0.112213</td>\n",
       "      <td>0.363014</td>\n",
       "      <td>130.009</td>\n",
       "      <td>0.035935</td>\n",
       "      <td>...</td>\n",
       "      <td>0.0</td>\n",
       "      <td>0.0</td>\n",
       "      <td>0.0</td>\n",
       "      <td>0.0</td>\n",
       "      <td>0.0</td>\n",
       "      <td>0.0</td>\n",
       "      <td>0.0</td>\n",
       "      <td>0.0</td>\n",
       "      <td>0.0</td>\n",
       "      <td>2</td>\n",
       "    </tr>\n",
       "    <tr>\n",
       "      <th>5922</th>\n",
       "      <td>5922</td>\n",
       "      <td>23979</td>\n",
       "      <td>0.784419</td>\n",
       "      <td>0.243774</td>\n",
       "      <td>0.109930</td>\n",
       "      <td>0.937670</td>\n",
       "      <td>0.111165</td>\n",
       "      <td>0.045007</td>\n",
       "      <td>149.983</td>\n",
       "      <td>0.238244</td>\n",
       "      <td>...</td>\n",
       "      <td>0.0</td>\n",
       "      <td>0.0</td>\n",
       "      <td>0.0</td>\n",
       "      <td>0.0</td>\n",
       "      <td>0.0</td>\n",
       "      <td>0.0</td>\n",
       "      <td>0.0</td>\n",
       "      <td>0.0</td>\n",
       "      <td>0.0</td>\n",
       "      <td>2</td>\n",
       "    </tr>\n",
       "    <tr>\n",
       "      <th>5921</th>\n",
       "      <td>5921</td>\n",
       "      <td>23978</td>\n",
       "      <td>0.000024</td>\n",
       "      <td>0.622546</td>\n",
       "      <td>0.340256</td>\n",
       "      <td>0.920285</td>\n",
       "      <td>0.087766</td>\n",
       "      <td>0.145666</td>\n",
       "      <td>179.063</td>\n",
       "      <td>0.344469</td>\n",
       "      <td>...</td>\n",
       "      <td>0.0</td>\n",
       "      <td>0.0</td>\n",
       "      <td>0.0</td>\n",
       "      <td>0.0</td>\n",
       "      <td>0.0</td>\n",
       "      <td>0.0</td>\n",
       "      <td>0.0</td>\n",
       "      <td>0.0</td>\n",
       "      <td>0.0</td>\n",
       "      <td>2</td>\n",
       "    </tr>\n",
       "    <tr>\n",
       "      <th>5687</th>\n",
       "      <td>5687</td>\n",
       "      <td>23078</td>\n",
       "      <td>0.560856</td>\n",
       "      <td>0.269121</td>\n",
       "      <td>0.425737</td>\n",
       "      <td>0.884421</td>\n",
       "      <td>0.098914</td>\n",
       "      <td>0.044708</td>\n",
       "      <td>71.807</td>\n",
       "      <td>0.231842</td>\n",
       "      <td>...</td>\n",
       "      <td>0.0</td>\n",
       "      <td>0.0</td>\n",
       "      <td>0.0</td>\n",
       "      <td>0.0</td>\n",
       "      <td>0.0</td>\n",
       "      <td>0.0</td>\n",
       "      <td>0.0</td>\n",
       "      <td>0.0</td>\n",
       "      <td>0.0</td>\n",
       "      <td>2</td>\n",
       "    </tr>\n",
       "    <tr>\n",
       "      <th>5056</th>\n",
       "      <td>5056</td>\n",
       "      <td>20001</td>\n",
       "      <td>0.436054</td>\n",
       "      <td>0.416578</td>\n",
       "      <td>0.756640</td>\n",
       "      <td>0.699119</td>\n",
       "      <td>0.113516</td>\n",
       "      <td>0.059987</td>\n",
       "      <td>123.203</td>\n",
       "      <td>0.458656</td>\n",
       "      <td>...</td>\n",
       "      <td>0.0</td>\n",
       "      <td>0.0</td>\n",
       "      <td>0.0</td>\n",
       "      <td>0.0</td>\n",
       "      <td>0.0</td>\n",
       "      <td>0.0</td>\n",
       "      <td>0.0</td>\n",
       "      <td>0.0</td>\n",
       "      <td>0.0</td>\n",
       "      <td>2</td>\n",
       "    </tr>\n",
       "  </tbody>\n",
       "</table>\n",
       "<p>5 rows × 931 columns</p>\n",
       "</div>"
      ],
      "text/plain": [
       "      Unnamed: 0  track_id  acousticness  danceability    energy  \\\n",
       "3761        3761     14795      0.041038      0.921934  0.654352   \n",
       "5922        5922     23979      0.784419      0.243774  0.109930   \n",
       "5921        5921     23978      0.000024      0.622546  0.340256   \n",
       "5687        5687     23078      0.560856      0.269121  0.425737   \n",
       "5056        5056     20001      0.436054      0.416578  0.756640   \n",
       "\n",
       "      instrumentalness  liveness  speechiness    tempo   valence  ...  Salsa  \\\n",
       "3761          0.838161  0.112213     0.363014  130.009  0.035935  ...    0.0   \n",
       "5922          0.937670  0.111165     0.045007  149.983  0.238244  ...    0.0   \n",
       "5921          0.920285  0.087766     0.145666  179.063  0.344469  ...    0.0   \n",
       "5687          0.884421  0.098914     0.044708   71.807  0.231842  ...    0.0   \n",
       "5056          0.699119  0.113516     0.059987  123.203  0.458656  ...    0.0   \n",
       "\n",
       "      NuJazz  HipHop Beats  Modern Jazz  Turkish  Tango  Fado  Christmas  \\\n",
       "3761     0.0           0.0          0.0      0.0    0.0   0.0        0.0   \n",
       "5922     0.0           0.0          0.0      0.0    0.0   0.0        0.0   \n",
       "5921     0.0           0.0          0.0      0.0    0.0   0.0        0.0   \n",
       "5687     0.0           0.0          0.0      0.0    0.0   0.0        0.0   \n",
       "5056     0.0           0.0          0.0      0.0    0.0   0.0        0.0   \n",
       "\n",
       "      Instrumental  label  \n",
       "3761           0.0      2  \n",
       "5922           0.0      2  \n",
       "5921           0.0      2  \n",
       "5687           0.0      2  \n",
       "5056           0.0      2  \n",
       "\n",
       "[5 rows x 931 columns]"
      ]
     },
     "execution_count": 26,
     "metadata": {},
     "output_type": "execute_result"
    }
   ],
   "source": [
    "recommendations.head()"
   ]
  },
  {
   "cell_type": "code",
   "execution_count": 27,
   "metadata": {},
   "outputs": [
    {
     "data": {
      "text/plain": [
       "51%    52\n",
       "Name: artist_name, dtype: int64"
      ]
     },
     "execution_count": 27,
     "metadata": {},
     "output_type": "execute_result"
    }
   ],
   "source": [
    "artist_name_recommend['artist_name'].value_counts()"
   ]
  },
  {
   "cell_type": "code",
   "execution_count": 28,
   "metadata": {},
   "outputs": [
    {
     "data": {
      "text/plain": [
       "Rock    3892\n",
       "Name: genre, dtype: int64"
      ]
     },
     "execution_count": 28,
     "metadata": {},
     "output_type": "execute_result"
    }
   ],
   "source": [
    "genre_recommend['genre'].value_counts()"
   ]
  },
  {
   "cell_type": "code",
   "execution_count": 29,
   "metadata": {},
   "outputs": [
    {
     "data": {
      "text/plain": [
       "Glove Compartment               65\n",
       "Blah Blah Blah                  62\n",
       "Mors Ontologica                 50\n",
       "Les Baudouins Morts             38\n",
       "Kraus                           35\n",
       "                                ..\n",
       "Modern Exteriors                 1\n",
       "The Dalai Lama Rama Fa Fa Fa     1\n",
       "Dirge                            1\n",
       "Moon Duo                         1\n",
       "Roberto Billi                    1\n",
       "Name: artist_name, Length: 725, dtype: int64"
      ]
     },
     "execution_count": 29,
     "metadata": {},
     "output_type": "execute_result"
    }
   ],
   "source": [
    "genre_recommend['artist_name'].value_counts()"
   ]
  },
  {
   "cell_type": "markdown",
   "metadata": {},
   "source": [
    "#### Testing"
   ]
  },
  {
   "cell_type": "code",
   "execution_count": 30,
   "metadata": {},
   "outputs": [],
   "source": [
    "testing = Y.iloc[6:12]['track_id']"
   ]
  },
  {
   "cell_type": "code",
   "execution_count": 31,
   "metadata": {},
   "outputs": [
    {
     "data": {
      "text/plain": [
       "7135     31129\n",
       "9152     40936\n",
       "7527     32521\n",
       "6685     28553\n",
       "11961    82472\n",
       "10437    48402\n",
       "Name: track_id, dtype: int64"
      ]
     },
     "execution_count": 31,
     "metadata": {},
     "output_type": "execute_result"
    }
   ],
   "source": [
    "testing"
   ]
  },
  {
   "cell_type": "code",
   "execution_count": 32,
   "metadata": {},
   "outputs": [],
   "source": [
    "ids = testing.loc[testing.index]"
   ]
  },
  {
   "cell_type": "code",
   "execution_count": 33,
   "metadata": {},
   "outputs": [],
   "source": [
    "songs = metadata.loc[testing.loc[list(testing.index)]]"
   ]
  },
  {
   "cell_type": "code",
   "execution_count": 34,
   "metadata": {},
   "outputs": [
    {
     "data": {
      "text/html": [
       "<div>\n",
       "<style scoped>\n",
       "    .dataframe tbody tr th:only-of-type {\n",
       "        vertical-align: middle;\n",
       "    }\n",
       "\n",
       "    .dataframe tbody tr th {\n",
       "        vertical-align: top;\n",
       "    }\n",
       "\n",
       "    .dataframe thead th {\n",
       "        text-align: right;\n",
       "    }\n",
       "</style>\n",
       "<table border=\"1\" class=\"dataframe\">\n",
       "  <thead>\n",
       "    <tr style=\"text-align: right;\">\n",
       "      <th></th>\n",
       "      <th>album_title</th>\n",
       "      <th>artist_name</th>\n",
       "      <th>genre</th>\n",
       "      <th>track_title</th>\n",
       "    </tr>\n",
       "    <tr>\n",
       "      <th>track_id</th>\n",
       "      <th></th>\n",
       "      <th></th>\n",
       "      <th></th>\n",
       "      <th></th>\n",
       "    </tr>\n",
       "  </thead>\n",
       "  <tbody>\n",
       "    <tr>\n",
       "      <th>31129</th>\n",
       "      <td>Antique Phonograph Music Program 03/23/10</td>\n",
       "      <td>Fred van Eps</td>\n",
       "      <td>OldTime|Historic</td>\n",
       "      <td>Maurice Tango</td>\n",
       "    </tr>\n",
       "    <tr>\n",
       "      <th>40936</th>\n",
       "      <td>Live on WFMU's The Evan Funk Davies Show 12/08/10</td>\n",
       "      <td>The Sights</td>\n",
       "      <td>Rock</td>\n",
       "      <td>Chat With EFD</td>\n",
       "    </tr>\n",
       "    <tr>\n",
       "      <th>32521</th>\n",
       "      <td>Terra Firma</td>\n",
       "      <td>Sascha Müller</td>\n",
       "      <td>Electronic</td>\n",
       "      <td>Contact</td>\n",
       "    </tr>\n",
       "    <tr>\n",
       "      <th>28553</th>\n",
       "      <td>ccMixter</td>\n",
       "      <td>_ghost</td>\n",
       "      <td>Electronic</td>\n",
       "      <td>Lullaby</td>\n",
       "    </tr>\n",
       "    <tr>\n",
       "      <th>82472</th>\n",
       "      <td>SADITREVNiSAIEHCLOcIMEsSAUd</td>\n",
       "      <td>dUASsEMIcOLCHEIASiNVERTIDAS</td>\n",
       "      <td>AvantGarde|International|</td>\n",
       "      <td>Apneia</td>\n",
       "    </tr>\n",
       "    <tr>\n",
       "      <th>48402</th>\n",
       "      <td>Orff: Carmina Burana</td>\n",
       "      <td>MIT Concert Choir</td>\n",
       "      <td>Classical</td>\n",
       "      <td>Dies, nox et omnia</td>\n",
       "    </tr>\n",
       "  </tbody>\n",
       "</table>\n",
       "</div>"
      ],
      "text/plain": [
       "                                                album_title  \\\n",
       "track_id                                                      \n",
       "31129             Antique Phonograph Music Program 03/23/10   \n",
       "40936     Live on WFMU's The Evan Funk Davies Show 12/08/10   \n",
       "32521                                           Terra Firma   \n",
       "28553                                              ccMixter   \n",
       "82472                           SADITREVNiSAIEHCLOcIMEsSAUd   \n",
       "48402                                  Orff: Carmina Burana   \n",
       "\n",
       "                          artist_name                      genre  \\\n",
       "track_id                                                           \n",
       "31129                    Fred van Eps           OldTime|Historic   \n",
       "40936                      The Sights                       Rock   \n",
       "32521                   Sascha Müller                 Electronic   \n",
       "28553                          _ghost                 Electronic   \n",
       "82472     dUASsEMIcOLCHEIASiNVERTIDAS  AvantGarde|International|   \n",
       "48402               MIT Concert Choir                  Classical   \n",
       "\n",
       "                 track_title  \n",
       "track_id                      \n",
       "31129          Maurice Tango  \n",
       "40936          Chat With EFD  \n",
       "32521                Contact  \n",
       "28553                Lullaby  \n",
       "82472                 Apneia  \n",
       "48402     Dies, nox et omnia  "
      ]
     },
     "execution_count": 34,
     "metadata": {},
     "output_type": "execute_result"
    }
   ],
   "source": [
    "songs"
   ]
  },
  {
   "cell_type": "code",
   "execution_count": 35,
   "metadata": {},
   "outputs": [],
   "source": [
    "re = predict(t, Y.iloc[6:12])"
   ]
  },
  {
   "cell_type": "code",
   "execution_count": 36,
   "metadata": {},
   "outputs": [],
   "source": [
    "output = recommend(re, metadata, Y.iloc[6:12])"
   ]
  },
  {
   "cell_type": "code",
   "execution_count": 37,
   "metadata": {},
   "outputs": [],
   "source": [
    "ge_re, ge_ar, ge_mix = output[0], output[1], output[2]"
   ]
  },
  {
   "cell_type": "code",
   "execution_count": 38,
   "metadata": {},
   "outputs": [
    {
     "data": {
      "text/html": [
       "<div>\n",
       "<style scoped>\n",
       "    .dataframe tbody tr th:only-of-type {\n",
       "        vertical-align: middle;\n",
       "    }\n",
       "\n",
       "    .dataframe tbody tr th {\n",
       "        vertical-align: top;\n",
       "    }\n",
       "\n",
       "    .dataframe thead th {\n",
       "        text-align: right;\n",
       "    }\n",
       "</style>\n",
       "<table border=\"1\" class=\"dataframe\">\n",
       "  <thead>\n",
       "    <tr style=\"text-align: right;\">\n",
       "      <th></th>\n",
       "      <th>album_title</th>\n",
       "      <th>artist_name</th>\n",
       "      <th>genre</th>\n",
       "      <th>track_title</th>\n",
       "    </tr>\n",
       "    <tr>\n",
       "      <th>track_id</th>\n",
       "      <th></th>\n",
       "      <th></th>\n",
       "      <th></th>\n",
       "      <th></th>\n",
       "    </tr>\n",
       "  </thead>\n",
       "  <tbody>\n",
       "    <tr>\n",
       "      <th>384</th>\n",
       "      <td>Summer Set</td>\n",
       "      <td>Blanketship</td>\n",
       "      <td>Electronic</td>\n",
       "      <td>Baja Jones</td>\n",
       "    </tr>\n",
       "    <tr>\n",
       "      <th>386</th>\n",
       "      <td>Summer Set</td>\n",
       "      <td>Blanketship</td>\n",
       "      <td>Electronic</td>\n",
       "      <td>Clapartroach</td>\n",
       "    </tr>\n",
       "    <tr>\n",
       "      <th>387</th>\n",
       "      <td>Summer Set</td>\n",
       "      <td>Blanketship</td>\n",
       "      <td>Electronic</td>\n",
       "      <td>I wish I wish</td>\n",
       "    </tr>\n",
       "    <tr>\n",
       "      <th>396</th>\n",
       "      <td>On the Back of a Dying Beast: Volume 1</td>\n",
       "      <td>Borful Tang</td>\n",
       "      <td>Electronic</td>\n",
       "      <td>Juggernaut Soliloquy</td>\n",
       "    </tr>\n",
       "    <tr>\n",
       "      <th>397</th>\n",
       "      <td>On the Back of a Dying Beast: Volume 1</td>\n",
       "      <td>Borful Tang</td>\n",
       "      <td>Electronic</td>\n",
       "      <td>The Tides Of Land</td>\n",
       "    </tr>\n",
       "  </tbody>\n",
       "</table>\n",
       "</div>"
      ],
      "text/plain": [
       "                                     album_title  artist_name       genre  \\\n",
       "track_id                                                                    \n",
       "384                                   Summer Set  Blanketship  Electronic   \n",
       "386                                   Summer Set  Blanketship  Electronic   \n",
       "387                                   Summer Set  Blanketship  Electronic   \n",
       "396       On the Back of a Dying Beast: Volume 1  Borful Tang  Electronic   \n",
       "397       On the Back of a Dying Beast: Volume 1  Borful Tang  Electronic   \n",
       "\n",
       "                   track_title  \n",
       "track_id                        \n",
       "384                 Baja Jones  \n",
       "386               Clapartroach  \n",
       "387              I wish I wish  \n",
       "396       Juggernaut Soliloquy  \n",
       "397          The Tides Of Land  "
      ]
     },
     "execution_count": 38,
     "metadata": {},
     "output_type": "execute_result"
    }
   ],
   "source": [
    "ge_re.head()"
   ]
  },
  {
   "cell_type": "code",
   "execution_count": 39,
   "metadata": {},
   "outputs": [
    {
     "data": {
      "text/html": [
       "<div>\n",
       "<style scoped>\n",
       "    .dataframe tbody tr th:only-of-type {\n",
       "        vertical-align: middle;\n",
       "    }\n",
       "\n",
       "    .dataframe tbody tr th {\n",
       "        vertical-align: top;\n",
       "    }\n",
       "\n",
       "    .dataframe thead th {\n",
       "        text-align: right;\n",
       "    }\n",
       "</style>\n",
       "<table border=\"1\" class=\"dataframe\">\n",
       "  <thead>\n",
       "    <tr style=\"text-align: right;\">\n",
       "      <th></th>\n",
       "      <th>album_title</th>\n",
       "      <th>artist_name</th>\n",
       "      <th>genre</th>\n",
       "      <th>track_title</th>\n",
       "    </tr>\n",
       "    <tr>\n",
       "      <th>track_id</th>\n",
       "      <th></th>\n",
       "      <th></th>\n",
       "      <th></th>\n",
       "      <th></th>\n",
       "    </tr>\n",
       "  </thead>\n",
       "  <tbody>\n",
       "    <tr>\n",
       "      <th>16425</th>\n",
       "      <td>Antique Phonograph Music Program 09/23/2008</td>\n",
       "      <td>Fred van Eps</td>\n",
       "      <td>OldTime|Historic</td>\n",
       "      <td>Rag Pickins</td>\n",
       "    </tr>\n",
       "    <tr>\n",
       "      <th>17992</th>\n",
       "      <td>Antique Phonograph Music Program 01/13/2009</td>\n",
       "      <td>Fred van Eps</td>\n",
       "      <td>OldTime|Historic</td>\n",
       "      <td>Irish Hearts</td>\n",
       "    </tr>\n",
       "    <tr>\n",
       "      <th>31129</th>\n",
       "      <td>Antique Phonograph Music Program 03/23/10</td>\n",
       "      <td>Fred van Eps</td>\n",
       "      <td>OldTime|Historic</td>\n",
       "      <td>Maurice Tango</td>\n",
       "    </tr>\n",
       "  </tbody>\n",
       "</table>\n",
       "</div>"
      ],
      "text/plain": [
       "                                          album_title   artist_name  \\\n",
       "track_id                                                              \n",
       "16425     Antique Phonograph Music Program 09/23/2008  Fred van Eps   \n",
       "17992     Antique Phonograph Music Program 01/13/2009  Fred van Eps   \n",
       "31129       Antique Phonograph Music Program 03/23/10  Fred van Eps   \n",
       "\n",
       "                     genre    track_title  \n",
       "track_id                                   \n",
       "16425     OldTime|Historic    Rag Pickins  \n",
       "17992     OldTime|Historic   Irish Hearts  \n",
       "31129     OldTime|Historic  Maurice Tango  "
      ]
     },
     "execution_count": 39,
     "metadata": {},
     "output_type": "execute_result"
    }
   ],
   "source": [
    "ge_ar.head(10)"
   ]
  },
  {
   "cell_type": "code",
   "execution_count": 40,
   "metadata": {},
   "outputs": [
    {
     "data": {
      "text/html": [
       "<div>\n",
       "<style scoped>\n",
       "    .dataframe tbody tr th:only-of-type {\n",
       "        vertical-align: middle;\n",
       "    }\n",
       "\n",
       "    .dataframe tbody tr th {\n",
       "        vertical-align: top;\n",
       "    }\n",
       "\n",
       "    .dataframe thead th {\n",
       "        text-align: right;\n",
       "    }\n",
       "</style>\n",
       "<table border=\"1\" class=\"dataframe\">\n",
       "  <thead>\n",
       "    <tr style=\"text-align: right;\">\n",
       "      <th></th>\n",
       "      <th>album_title</th>\n",
       "      <th>artist_name</th>\n",
       "      <th>genre</th>\n",
       "      <th>track_title</th>\n",
       "    </tr>\n",
       "    <tr>\n",
       "      <th>track_id</th>\n",
       "      <th></th>\n",
       "      <th></th>\n",
       "      <th></th>\n",
       "      <th></th>\n",
       "    </tr>\n",
       "  </thead>\n",
       "  <tbody>\n",
       "    <tr>\n",
       "      <th>7545</th>\n",
       "      <td>Live at WFMU on Liz Berg's Show on 9/29/2008</td>\n",
       "      <td>Antiguo Automata Mexicano</td>\n",
       "      <td>Electronic</td>\n",
       "      <td>Chez Nobody</td>\n",
       "    </tr>\n",
       "    <tr>\n",
       "      <th>1306</th>\n",
       "      <td>Electrified Being</td>\n",
       "      <td>Nicky Andrews</td>\n",
       "      <td>Electronic</td>\n",
       "      <td>Affective-2</td>\n",
       "    </tr>\n",
       "    <tr>\n",
       "      <th>19132</th>\n",
       "      <td>Paul \"Wine\" Jones, T-Model Ford &amp; Kenny Brown ...</td>\n",
       "      <td>T-Model Ford</td>\n",
       "      <td>Blues</td>\n",
       "      <td>I Love My Babe</td>\n",
       "    </tr>\n",
       "    <tr>\n",
       "      <th>3924</th>\n",
       "      <td>Live at WFMU on Scott's Show on 5/26/2000</td>\n",
       "      <td>Mink Lungs</td>\n",
       "      <td>Rock</td>\n",
       "      <td>Medley - Ultimate Slumber Party</td>\n",
       "    </tr>\n",
       "    <tr>\n",
       "      <th>11870</th>\n",
       "      <td>Wildahead Portibeast</td>\n",
       "      <td>Wildahead Portibeast</td>\n",
       "      <td>HipHop</td>\n",
       "      <td>What The Truth Should Be</td>\n",
       "    </tr>\n",
       "    <tr>\n",
       "      <th>4542</th>\n",
       "      <td>Live on WFMU on Brian Turner's Show 4/8/08</td>\n",
       "      <td>Wildildife</td>\n",
       "      <td>Rock</td>\n",
       "      <td>Kross</td>\n",
       "    </tr>\n",
       "    <tr>\n",
       "      <th>16383</th>\n",
       "      <td>Antique Phonograph Music Program 08/26/2008</td>\n",
       "      <td>Dorothy Kingsley</td>\n",
       "      <td>OldTime|Historic</td>\n",
       "      <td>Call Round Any Old Time</td>\n",
       "    </tr>\n",
       "    <tr>\n",
       "      <th>1608</th>\n",
       "      <td>Ice Machine</td>\n",
       "      <td>Six Star General</td>\n",
       "      <td>Rock</td>\n",
       "      <td>One Jack One Jerry</td>\n",
       "    </tr>\n",
       "    <tr>\n",
       "      <th>22434</th>\n",
       "      <td>Pocket Monster</td>\n",
       "      <td>Henry Homesweet</td>\n",
       "      <td>Electronic</td>\n",
       "      <td>Tragic But Magic</td>\n",
       "    </tr>\n",
       "    <tr>\n",
       "      <th>19588</th>\n",
       "      <td>Antique Phonograph Music Program 10/06/2009</td>\n",
       "      <td>Ed Morton</td>\n",
       "      <td>OldTime|Historic</td>\n",
       "      <td>What Do You Mean You Lost Your Dog</td>\n",
       "    </tr>\n",
       "  </tbody>\n",
       "</table>\n",
       "</div>"
      ],
      "text/plain": [
       "                                                album_title  \\\n",
       "track_id                                                      \n",
       "7545           Live at WFMU on Liz Berg's Show on 9/29/2008   \n",
       "1306                                      Electrified Being   \n",
       "19132     Paul \"Wine\" Jones, T-Model Ford & Kenny Brown ...   \n",
       "3924              Live at WFMU on Scott's Show on 5/26/2000   \n",
       "11870                                  Wildahead Portibeast   \n",
       "4542             Live on WFMU on Brian Turner's Show 4/8/08   \n",
       "16383           Antique Phonograph Music Program 08/26/2008   \n",
       "1608                                            Ice Machine   \n",
       "22434                                        Pocket Monster   \n",
       "19588           Antique Phonograph Music Program 10/06/2009   \n",
       "\n",
       "                        artist_name             genre  \\\n",
       "track_id                                                \n",
       "7545      Antiguo Automata Mexicano        Electronic   \n",
       "1306                  Nicky Andrews        Electronic   \n",
       "19132                  T-Model Ford             Blues   \n",
       "3924                     Mink Lungs              Rock   \n",
       "11870          Wildahead Portibeast            HipHop   \n",
       "4542                     Wildildife              Rock   \n",
       "16383              Dorothy Kingsley  OldTime|Historic   \n",
       "1608               Six Star General              Rock   \n",
       "22434               Henry Homesweet        Electronic   \n",
       "19588                     Ed Morton  OldTime|Historic   \n",
       "\n",
       "                                 track_title  \n",
       "track_id                                      \n",
       "7545                             Chez Nobody  \n",
       "1306                             Affective-2  \n",
       "19132                         I Love My Babe  \n",
       "3924         Medley - Ultimate Slumber Party  \n",
       "11870               What The Truth Should Be  \n",
       "4542                                   Kross  \n",
       "16383                Call Round Any Old Time  \n",
       "1608                      One Jack One Jerry  \n",
       "22434                       Tragic But Magic  \n",
       "19588     What Do You Mean You Lost Your Dog  "
      ]
     },
     "execution_count": 40,
     "metadata": {},
     "output_type": "execute_result"
    }
   ],
   "source": [
    "ge_mix.head(10)"
   ]
  },
  {
   "cell_type": "code",
   "execution_count": 41,
   "metadata": {},
   "outputs": [
    {
     "data": {
      "text/plain": [
       "(2170, 4)"
      ]
     },
     "execution_count": 41,
     "metadata": {},
     "output_type": "execute_result"
    }
   ],
   "source": [
    "ge_re.shape"
   ]
  },
  {
   "cell_type": "code",
   "execution_count": 42,
   "metadata": {},
   "outputs": [
    {
     "data": {
      "text/plain": [
       "(3, 4)"
      ]
     },
     "execution_count": 42,
     "metadata": {},
     "output_type": "execute_result"
    }
   ],
   "source": [
    "ge_ar.shape"
   ]
  },
  {
   "cell_type": "code",
   "execution_count": 43,
   "metadata": {},
   "outputs": [
    {
     "data": {
      "text/plain": [
       "(2807, 4)"
      ]
     },
     "execution_count": 43,
     "metadata": {},
     "output_type": "execute_result"
    }
   ],
   "source": [
    "ge_mix.shape"
   ]
  },
  {
   "cell_type": "markdown",
   "metadata": {},
   "source": [
    "### Model Selection - MiniBatchKMeans"
   ]
  },
  {
   "cell_type": "code",
   "execution_count": 44,
   "metadata": {},
   "outputs": [],
   "source": [
    "from sklearn.cluster import MiniBatchKMeans"
   ]
  },
  {
   "cell_type": "code",
   "execution_count": 45,
   "metadata": {},
   "outputs": [],
   "source": [
    "mini = MiniBatchKMeans(n_clusters = 6)"
   ]
  },
  {
   "cell_type": "code",
   "execution_count": 46,
   "metadata": {},
   "outputs": [],
   "source": [
    "X.drop('label', axis=1, inplace=True)"
   ]
  },
  {
   "cell_type": "code",
   "execution_count": 47,
   "metadata": {},
   "outputs": [],
   "source": [
    "# Let's divide the intital dataset into pieces to demonstrate online learning\n",
    "part_1, part_2, part_3 = X.iloc[0: 2000], X.iloc[2000:4000], X.iloc[4000:6000]"
   ]
  },
  {
   "cell_type": "code",
   "execution_count": 48,
   "metadata": {},
   "outputs": [
    {
     "name": "stderr",
     "output_type": "stream",
     "text": [
      "<ipython-input-13-b8e161e5eb88>:6: SettingWithCopyWarning: \n",
      "A value is trying to be set on a copy of a slice from a DataFrame.\n",
      "Try using .loc[row_indexer,col_indexer] = value instead\n",
      "\n",
      "See the caveats in the documentation: https://pandas.pydata.org/pandas-docs/stable/user_guide/indexing.html#returning-a-view-versus-a-copy\n",
      "  df['label'] = algo.labels_\n",
      "<ipython-input-13-b8e161e5eb88>:6: SettingWithCopyWarning: \n",
      "A value is trying to be set on a copy of a slice from a DataFrame.\n",
      "Try using .loc[row_indexer,col_indexer] = value instead\n",
      "\n",
      "See the caveats in the documentation: https://pandas.pydata.org/pandas-docs/stable/user_guide/indexing.html#returning-a-view-versus-a-copy\n",
      "  df['label'] = algo.labels_\n",
      "<ipython-input-13-b8e161e5eb88>:6: SettingWithCopyWarning: \n",
      "A value is trying to be set on a copy of a slice from a DataFrame.\n",
      "Try using .loc[row_indexer,col_indexer] = value instead\n",
      "\n",
      "See the caveats in the documentation: https://pandas.pydata.org/pandas-docs/stable/user_guide/indexing.html#returning-a-view-versus-a-copy\n",
      "  df['label'] = algo.labels_\n"
     ]
    }
   ],
   "source": [
    "for i in [part_1, part_2, part_3]:\n",
    "    t = fit(i, mini)\n",
    "    mini = t[1]\n",
    "    i = t[0]"
   ]
  },
  {
   "cell_type": "code",
   "execution_count": 49,
   "metadata": {},
   "outputs": [],
   "source": [
    "X = pd.concat([part_1, part_2, part_3])"
   ]
  },
  {
   "cell_type": "code",
   "execution_count": 50,
   "metadata": {},
   "outputs": [
    {
     "data": {
      "text/plain": [
       "Index(['Unnamed: 0', 'track_id', 'acousticness', 'danceability', 'energy',\n",
       "       'instrumentalness', 'liveness', 'speechiness', 'tempo', 'valence',\n",
       "       ...\n",
       "       'Salsa', 'NuJazz', 'HipHop Beats', 'Modern Jazz', 'Turkish', 'Tango',\n",
       "       'Fado', 'Christmas', 'Instrumental', 'label'],\n",
       "      dtype='object', length=931)"
      ]
     },
     "execution_count": 50,
     "metadata": {},
     "output_type": "execute_result"
    }
   ],
   "source": [
    "X.columns"
   ]
  },
  {
   "cell_type": "code",
   "execution_count": 51,
   "metadata": {},
   "outputs": [
    {
     "data": {
      "text/html": [
       "<div>\n",
       "<style scoped>\n",
       "    .dataframe tbody tr th:only-of-type {\n",
       "        vertical-align: middle;\n",
       "    }\n",
       "\n",
       "    .dataframe tbody tr th {\n",
       "        vertical-align: top;\n",
       "    }\n",
       "\n",
       "    .dataframe thead th {\n",
       "        text-align: right;\n",
       "    }\n",
       "</style>\n",
       "<table border=\"1\" class=\"dataframe\">\n",
       "  <thead>\n",
       "    <tr style=\"text-align: right;\">\n",
       "      <th></th>\n",
       "      <th>Unnamed: 0</th>\n",
       "      <th>track_id</th>\n",
       "      <th>acousticness</th>\n",
       "      <th>danceability</th>\n",
       "      <th>energy</th>\n",
       "      <th>instrumentalness</th>\n",
       "      <th>liveness</th>\n",
       "      <th>speechiness</th>\n",
       "      <th>tempo</th>\n",
       "      <th>valence</th>\n",
       "      <th>...</th>\n",
       "      <th>Salsa</th>\n",
       "      <th>NuJazz</th>\n",
       "      <th>HipHop Beats</th>\n",
       "      <th>Modern Jazz</th>\n",
       "      <th>Turkish</th>\n",
       "      <th>Tango</th>\n",
       "      <th>Fado</th>\n",
       "      <th>Christmas</th>\n",
       "      <th>Instrumental</th>\n",
       "      <th>label</th>\n",
       "    </tr>\n",
       "  </thead>\n",
       "  <tbody>\n",
       "    <tr>\n",
       "      <th>3761</th>\n",
       "      <td>3761</td>\n",
       "      <td>14795</td>\n",
       "      <td>0.041038</td>\n",
       "      <td>0.921934</td>\n",
       "      <td>0.654352</td>\n",
       "      <td>0.838161</td>\n",
       "      <td>0.112213</td>\n",
       "      <td>0.363014</td>\n",
       "      <td>130.009</td>\n",
       "      <td>0.035935</td>\n",
       "      <td>...</td>\n",
       "      <td>0.0</td>\n",
       "      <td>0.0</td>\n",
       "      <td>0.0</td>\n",
       "      <td>0.0</td>\n",
       "      <td>0.0</td>\n",
       "      <td>0.0</td>\n",
       "      <td>0.0</td>\n",
       "      <td>0.0</td>\n",
       "      <td>0.0</td>\n",
       "      <td>2</td>\n",
       "    </tr>\n",
       "    <tr>\n",
       "      <th>4471</th>\n",
       "      <td>4471</td>\n",
       "      <td>17794</td>\n",
       "      <td>0.994946</td>\n",
       "      <td>0.292073</td>\n",
       "      <td>0.050897</td>\n",
       "      <td>0.110574</td>\n",
       "      <td>0.666249</td>\n",
       "      <td>0.050318</td>\n",
       "      <td>132.850</td>\n",
       "      <td>0.133360</td>\n",
       "      <td>...</td>\n",
       "      <td>0.0</td>\n",
       "      <td>0.0</td>\n",
       "      <td>0.0</td>\n",
       "      <td>0.0</td>\n",
       "      <td>0.0</td>\n",
       "      <td>0.0</td>\n",
       "      <td>0.0</td>\n",
       "      <td>0.0</td>\n",
       "      <td>0.0</td>\n",
       "      <td>0</td>\n",
       "    </tr>\n",
       "    <tr>\n",
       "      <th>2106</th>\n",
       "      <td>2106</td>\n",
       "      <td>7545</td>\n",
       "      <td>0.873320</td>\n",
       "      <td>0.242819</td>\n",
       "      <td>0.364811</td>\n",
       "      <td>0.782725</td>\n",
       "      <td>0.113607</td>\n",
       "      <td>0.059082</td>\n",
       "      <td>192.401</td>\n",
       "      <td>0.267495</td>\n",
       "      <td>...</td>\n",
       "      <td>0.0</td>\n",
       "      <td>0.0</td>\n",
       "      <td>0.0</td>\n",
       "      <td>0.0</td>\n",
       "      <td>0.0</td>\n",
       "      <td>0.0</td>\n",
       "      <td>0.0</td>\n",
       "      <td>0.0</td>\n",
       "      <td>0.0</td>\n",
       "      <td>1</td>\n",
       "    </tr>\n",
       "  </tbody>\n",
       "</table>\n",
       "<p>3 rows × 931 columns</p>\n",
       "</div>"
      ],
      "text/plain": [
       "      Unnamed: 0  track_id  acousticness  danceability    energy  \\\n",
       "3761        3761     14795      0.041038      0.921934  0.654352   \n",
       "4471        4471     17794      0.994946      0.292073  0.050897   \n",
       "2106        2106      7545      0.873320      0.242819  0.364811   \n",
       "\n",
       "      instrumentalness  liveness  speechiness    tempo   valence  ...  Salsa  \\\n",
       "3761          0.838161  0.112213     0.363014  130.009  0.035935  ...    0.0   \n",
       "4471          0.110574  0.666249     0.050318  132.850  0.133360  ...    0.0   \n",
       "2106          0.782725  0.113607     0.059082  192.401  0.267495  ...    0.0   \n",
       "\n",
       "      NuJazz  HipHop Beats  Modern Jazz  Turkish  Tango  Fado  Christmas  \\\n",
       "3761     0.0           0.0          0.0      0.0    0.0   0.0        0.0   \n",
       "4471     0.0           0.0          0.0      0.0    0.0   0.0        0.0   \n",
       "2106     0.0           0.0          0.0      0.0    0.0   0.0        0.0   \n",
       "\n",
       "      Instrumental  label  \n",
       "3761           0.0      2  \n",
       "4471           0.0      0  \n",
       "2106           0.0      1  \n",
       "\n",
       "[3 rows x 931 columns]"
      ]
     },
     "execution_count": 51,
     "metadata": {},
     "output_type": "execute_result"
    }
   ],
   "source": [
    "X.head(3)"
   ]
  },
  {
   "cell_type": "code",
   "execution_count": 52,
   "metadata": {},
   "outputs": [
    {
     "data": {
      "text/plain": [
       "1    2838\n",
       "2    1179\n",
       "3     911\n",
       "0     794\n",
       "4     210\n",
       "5      68\n",
       "Name: label, dtype: int64"
      ]
     },
     "execution_count": 52,
     "metadata": {},
     "output_type": "execute_result"
    }
   ],
   "source": [
    "X['label'].value_counts()"
   ]
  },
  {
   "cell_type": "code",
   "execution_count": 53,
   "metadata": {
    "scrolled": true
   },
   "outputs": [],
   "source": [
    "recommendations = predict((X, mini), Y)"
   ]
  },
  {
   "cell_type": "code",
   "execution_count": 54,
   "metadata": {},
   "outputs": [],
   "source": [
    "output = recommend(recommendations, metadata, Y)"
   ]
  },
  {
   "cell_type": "code",
   "execution_count": 55,
   "metadata": {},
   "outputs": [],
   "source": [
    "genre_recommend_mini, artist_name_recommend_mini, mixed_mini = output[0], output[1], output[2]"
   ]
  },
  {
   "cell_type": "code",
   "execution_count": 56,
   "metadata": {},
   "outputs": [
    {
     "data": {
      "text/plain": [
       "(3892, 4)"
      ]
     },
     "execution_count": 56,
     "metadata": {},
     "output_type": "execute_result"
    }
   ],
   "source": [
    "genre_recommend_mini.shape"
   ]
  },
  {
   "cell_type": "code",
   "execution_count": 57,
   "metadata": {},
   "outputs": [
    {
     "data": {
      "text/plain": [
       "(52, 4)"
      ]
     },
     "execution_count": 57,
     "metadata": {},
     "output_type": "execute_result"
    }
   ],
   "source": [
    "artist_name_recommend_mini.shape"
   ]
  },
  {
   "cell_type": "code",
   "execution_count": 58,
   "metadata": {},
   "outputs": [
    {
     "data": {
      "text/html": [
       "<div>\n",
       "<style scoped>\n",
       "    .dataframe tbody tr th:only-of-type {\n",
       "        vertical-align: middle;\n",
       "    }\n",
       "\n",
       "    .dataframe tbody tr th {\n",
       "        vertical-align: top;\n",
       "    }\n",
       "\n",
       "    .dataframe thead th {\n",
       "        text-align: right;\n",
       "    }\n",
       "</style>\n",
       "<table border=\"1\" class=\"dataframe\">\n",
       "  <thead>\n",
       "    <tr style=\"text-align: right;\">\n",
       "      <th></th>\n",
       "      <th>album_title</th>\n",
       "      <th>artist_name</th>\n",
       "      <th>genre</th>\n",
       "      <th>track_title</th>\n",
       "    </tr>\n",
       "    <tr>\n",
       "      <th>track_id</th>\n",
       "      <th></th>\n",
       "      <th></th>\n",
       "      <th></th>\n",
       "      <th></th>\n",
       "    </tr>\n",
       "  </thead>\n",
       "  <tbody>\n",
       "    <tr>\n",
       "      <th>153</th>\n",
       "      <td>Arc and Sender</td>\n",
       "      <td>Arc and Sender</td>\n",
       "      <td>Rock</td>\n",
       "      <td>Hundred-Year Flood</td>\n",
       "    </tr>\n",
       "    <tr>\n",
       "      <th>154</th>\n",
       "      <td>Arc and Sender</td>\n",
       "      <td>Arc and Sender</td>\n",
       "      <td>Rock</td>\n",
       "      <td>Squares And Circles</td>\n",
       "    </tr>\n",
       "    <tr>\n",
       "      <th>155</th>\n",
       "      <td>unreleased demo</td>\n",
       "      <td>Arc and Sender</td>\n",
       "      <td>Rock</td>\n",
       "      <td>Maps of the Stars Homes</td>\n",
       "    </tr>\n",
       "    <tr>\n",
       "      <th>169</th>\n",
       "      <td>Boss of Goth</td>\n",
       "      <td>Argumentix</td>\n",
       "      <td>Rock</td>\n",
       "      <td>Boss of Goth</td>\n",
       "    </tr>\n",
       "    <tr>\n",
       "      <th>170</th>\n",
       "      <td>Nightmarcher</td>\n",
       "      <td>Argumentix</td>\n",
       "      <td>Rock</td>\n",
       "      <td>Industry Standard Massacre</td>\n",
       "    </tr>\n",
       "  </tbody>\n",
       "</table>\n",
       "</div>"
      ],
      "text/plain": [
       "              album_title     artist_name genre                 track_title\n",
       "track_id                                                                   \n",
       "153        Arc and Sender  Arc and Sender  Rock          Hundred-Year Flood\n",
       "154        Arc and Sender  Arc and Sender  Rock         Squares And Circles\n",
       "155       unreleased demo  Arc and Sender  Rock     Maps of the Stars Homes\n",
       "169          Boss of Goth      Argumentix  Rock                Boss of Goth\n",
       "170          Nightmarcher      Argumentix  Rock  Industry Standard Massacre"
      ]
     },
     "execution_count": 58,
     "metadata": {},
     "output_type": "execute_result"
    }
   ],
   "source": [
    "# Genre wise recommendations\n",
    "genre_recommend_mini.head()"
   ]
  },
  {
   "cell_type": "code",
   "execution_count": 59,
   "metadata": {},
   "outputs": [
    {
     "data": {
      "text/html": [
       "<div>\n",
       "<style scoped>\n",
       "    .dataframe tbody tr th:only-of-type {\n",
       "        vertical-align: middle;\n",
       "    }\n",
       "\n",
       "    .dataframe tbody tr th {\n",
       "        vertical-align: top;\n",
       "    }\n",
       "\n",
       "    .dataframe thead th {\n",
       "        text-align: right;\n",
       "    }\n",
       "</style>\n",
       "<table border=\"1\" class=\"dataframe\">\n",
       "  <thead>\n",
       "    <tr style=\"text-align: right;\">\n",
       "      <th></th>\n",
       "      <th>album_title</th>\n",
       "      <th>artist_name</th>\n",
       "      <th>genre</th>\n",
       "      <th>track_title</th>\n",
       "    </tr>\n",
       "    <tr>\n",
       "      <th>track_id</th>\n",
       "      <th></th>\n",
       "      <th></th>\n",
       "      <th></th>\n",
       "      <th></th>\n",
       "    </tr>\n",
       "  </thead>\n",
       "  <tbody>\n",
       "    <tr>\n",
       "      <th>34660</th>\n",
       "      <td>Zehu</td>\n",
       "      <td>51%</td>\n",
       "      <td>AvantGarde|International|Blues|Jazz|</td>\n",
       "      <td>Hadri Ha'Kat</td>\n",
       "    </tr>\n",
       "    <tr>\n",
       "      <th>34661</th>\n",
       "      <td>Zehu</td>\n",
       "      <td>51%</td>\n",
       "      <td>AvantGarde|International|Blues|Jazz|</td>\n",
       "      <td>Blender Tzivoni</td>\n",
       "    </tr>\n",
       "    <tr>\n",
       "      <th>34662</th>\n",
       "      <td>Zehu</td>\n",
       "      <td>51%</td>\n",
       "      <td>AvantGarde|International|Blues|Jazz|</td>\n",
       "      <td>Naniah</td>\n",
       "    </tr>\n",
       "    <tr>\n",
       "      <th>34663</th>\n",
       "      <td>Zehu</td>\n",
       "      <td>51%</td>\n",
       "      <td>AvantGarde|International|Blues|Jazz|</td>\n",
       "      <td>Yoter Miday</td>\n",
       "    </tr>\n",
       "    <tr>\n",
       "      <th>34664</th>\n",
       "      <td>Zehu</td>\n",
       "      <td>51%</td>\n",
       "      <td>AvantGarde|International|Blues|Jazz|</td>\n",
       "      <td>Yamim, Lielot</td>\n",
       "    </tr>\n",
       "  </tbody>\n",
       "</table>\n",
       "</div>"
      ],
      "text/plain": [
       "         album_title artist_name                                 genre  \\\n",
       "track_id                                                                 \n",
       "34660           Zehu         51%  AvantGarde|International|Blues|Jazz|   \n",
       "34661           Zehu         51%  AvantGarde|International|Blues|Jazz|   \n",
       "34662           Zehu         51%  AvantGarde|International|Blues|Jazz|   \n",
       "34663           Zehu         51%  AvantGarde|International|Blues|Jazz|   \n",
       "34664           Zehu         51%  AvantGarde|International|Blues|Jazz|   \n",
       "\n",
       "              track_title  \n",
       "track_id                   \n",
       "34660        Hadri Ha'Kat  \n",
       "34661     Blender Tzivoni  \n",
       "34662              Naniah  \n",
       "34663         Yoter Miday  \n",
       "34664       Yamim, Lielot  "
      ]
     },
     "execution_count": 59,
     "metadata": {},
     "output_type": "execute_result"
    }
   ],
   "source": [
    "# Artist wise recommendations\n",
    "artist_name_recommend_mini.head()"
   ]
  },
  {
   "cell_type": "code",
   "execution_count": 60,
   "metadata": {},
   "outputs": [
    {
     "data": {
      "text/html": [
       "<div>\n",
       "<style scoped>\n",
       "    .dataframe tbody tr th:only-of-type {\n",
       "        vertical-align: middle;\n",
       "    }\n",
       "\n",
       "    .dataframe tbody tr th {\n",
       "        vertical-align: top;\n",
       "    }\n",
       "\n",
       "    .dataframe thead th {\n",
       "        text-align: right;\n",
       "    }\n",
       "</style>\n",
       "<table border=\"1\" class=\"dataframe\">\n",
       "  <thead>\n",
       "    <tr style=\"text-align: right;\">\n",
       "      <th></th>\n",
       "      <th>album_title</th>\n",
       "      <th>artist_name</th>\n",
       "      <th>genre</th>\n",
       "      <th>track_title</th>\n",
       "    </tr>\n",
       "    <tr>\n",
       "      <th>track_id</th>\n",
       "      <th></th>\n",
       "      <th></th>\n",
       "      <th></th>\n",
       "      <th></th>\n",
       "    </tr>\n",
       "  </thead>\n",
       "  <tbody>\n",
       "    <tr>\n",
       "      <th>14795</th>\n",
       "      <td>Philly Time!</td>\n",
       "      <td>Pink Skull</td>\n",
       "      <td>Electronic</td>\n",
       "      <td>choco taco</td>\n",
       "    </tr>\n",
       "    <tr>\n",
       "      <th>19330</th>\n",
       "      <td>Viandanze (EP)</td>\n",
       "      <td>Fabrizio Paterlini</td>\n",
       "      <td>Classical</td>\n",
       "      <td>Profondo Blu</td>\n",
       "    </tr>\n",
       "    <tr>\n",
       "      <th>23979</th>\n",
       "      <td>bambada</td>\n",
       "      <td>uiutna</td>\n",
       "      <td>Electronic</td>\n",
       "      <td>MZ001</td>\n",
       "    </tr>\n",
       "    <tr>\n",
       "      <th>23978</th>\n",
       "      <td>bambada</td>\n",
       "      <td>uiutna</td>\n",
       "      <td>Electronic</td>\n",
       "      <td>all the crocodiles</td>\n",
       "    </tr>\n",
       "    <tr>\n",
       "      <th>23078</th>\n",
       "      <td>Halloween</td>\n",
       "      <td>BLOB</td>\n",
       "      <td>Jazz</td>\n",
       "      <td>Stone Cold</td>\n",
       "    </tr>\n",
       "  </tbody>\n",
       "</table>\n",
       "</div>"
      ],
      "text/plain": [
       "             album_title         artist_name       genre         track_title\n",
       "track_id                                                                    \n",
       "14795       Philly Time!          Pink Skull  Electronic          choco taco\n",
       "19330     Viandanze (EP)  Fabrizio Paterlini   Classical        Profondo Blu\n",
       "23979            bambada              uiutna  Electronic               MZ001\n",
       "23978            bambada              uiutna  Electronic  all the crocodiles\n",
       "23078          Halloween                BLOB        Jazz          Stone Cold"
      ]
     },
     "execution_count": 60,
     "metadata": {},
     "output_type": "execute_result"
    }
   ],
   "source": [
    "# Mixed Recommendations\n",
    "mixed_mini.head()"
   ]
  },
  {
   "cell_type": "markdown",
   "metadata": {},
   "source": [
    "### Model Selection - Birch"
   ]
  },
  {
   "cell_type": "code",
   "execution_count": 61,
   "metadata": {},
   "outputs": [],
   "source": [
    "from sklearn.cluster import Birch"
   ]
  },
  {
   "cell_type": "code",
   "execution_count": 62,
   "metadata": {},
   "outputs": [],
   "source": [
    "birch = Birch(n_clusters = 6)"
   ]
  },
  {
   "cell_type": "code",
   "execution_count": 63,
   "metadata": {},
   "outputs": [],
   "source": [
    "X.drop('label', axis=1, inplace=True)"
   ]
  },
  {
   "cell_type": "code",
   "execution_count": 64,
   "metadata": {},
   "outputs": [],
   "source": [
    "# Let's divide the intital dataset into pieces to demonstrate online learning\n",
    "part_1, part_2, part_3 = X.iloc[0: 2000], X.iloc[2000:4000], X.iloc[4000:6000]"
   ]
  },
  {
   "cell_type": "code",
   "execution_count": 65,
   "metadata": {},
   "outputs": [
    {
     "name": "stderr",
     "output_type": "stream",
     "text": [
      "<ipython-input-13-b8e161e5eb88>:6: SettingWithCopyWarning: \n",
      "A value is trying to be set on a copy of a slice from a DataFrame.\n",
      "Try using .loc[row_indexer,col_indexer] = value instead\n",
      "\n",
      "See the caveats in the documentation: https://pandas.pydata.org/pandas-docs/stable/user_guide/indexing.html#returning-a-view-versus-a-copy\n",
      "  df['label'] = algo.labels_\n",
      "<ipython-input-13-b8e161e5eb88>:6: SettingWithCopyWarning: \n",
      "A value is trying to be set on a copy of a slice from a DataFrame.\n",
      "Try using .loc[row_indexer,col_indexer] = value instead\n",
      "\n",
      "See the caveats in the documentation: https://pandas.pydata.org/pandas-docs/stable/user_guide/indexing.html#returning-a-view-versus-a-copy\n",
      "  df['label'] = algo.labels_\n",
      "<ipython-input-13-b8e161e5eb88>:6: SettingWithCopyWarning: \n",
      "A value is trying to be set on a copy of a slice from a DataFrame.\n",
      "Try using .loc[row_indexer,col_indexer] = value instead\n",
      "\n",
      "See the caveats in the documentation: https://pandas.pydata.org/pandas-docs/stable/user_guide/indexing.html#returning-a-view-versus-a-copy\n",
      "  df['label'] = algo.labels_\n"
     ]
    }
   ],
   "source": [
    "for i in [part_1, part_2, part_3]:\n",
    "    t = fit(i, birch)\n",
    "    mini = t[1]\n",
    "    i = t[0]"
   ]
  },
  {
   "cell_type": "code",
   "execution_count": 66,
   "metadata": {},
   "outputs": [],
   "source": [
    "X = pd.concat([part_1, part_2, part_3])"
   ]
  },
  {
   "cell_type": "code",
   "execution_count": 67,
   "metadata": {},
   "outputs": [
    {
     "data": {
      "text/plain": [
       "Index(['Unnamed: 0', 'track_id', 'acousticness', 'danceability', 'energy',\n",
       "       'instrumentalness', 'liveness', 'speechiness', 'tempo', 'valence',\n",
       "       ...\n",
       "       'Salsa', 'NuJazz', 'HipHop Beats', 'Modern Jazz', 'Turkish', 'Tango',\n",
       "       'Fado', 'Christmas', 'Instrumental', 'label'],\n",
       "      dtype='object', length=931)"
      ]
     },
     "execution_count": 67,
     "metadata": {},
     "output_type": "execute_result"
    }
   ],
   "source": [
    "X.columns"
   ]
  },
  {
   "cell_type": "code",
   "execution_count": 68,
   "metadata": {},
   "outputs": [
    {
     "data": {
      "text/html": [
       "<div>\n",
       "<style scoped>\n",
       "    .dataframe tbody tr th:only-of-type {\n",
       "        vertical-align: middle;\n",
       "    }\n",
       "\n",
       "    .dataframe tbody tr th {\n",
       "        vertical-align: top;\n",
       "    }\n",
       "\n",
       "    .dataframe thead th {\n",
       "        text-align: right;\n",
       "    }\n",
       "</style>\n",
       "<table border=\"1\" class=\"dataframe\">\n",
       "  <thead>\n",
       "    <tr style=\"text-align: right;\">\n",
       "      <th></th>\n",
       "      <th>Unnamed: 0</th>\n",
       "      <th>track_id</th>\n",
       "      <th>acousticness</th>\n",
       "      <th>danceability</th>\n",
       "      <th>energy</th>\n",
       "      <th>instrumentalness</th>\n",
       "      <th>liveness</th>\n",
       "      <th>speechiness</th>\n",
       "      <th>tempo</th>\n",
       "      <th>valence</th>\n",
       "      <th>...</th>\n",
       "      <th>Salsa</th>\n",
       "      <th>NuJazz</th>\n",
       "      <th>HipHop Beats</th>\n",
       "      <th>Modern Jazz</th>\n",
       "      <th>Turkish</th>\n",
       "      <th>Tango</th>\n",
       "      <th>Fado</th>\n",
       "      <th>Christmas</th>\n",
       "      <th>Instrumental</th>\n",
       "      <th>label</th>\n",
       "    </tr>\n",
       "  </thead>\n",
       "  <tbody>\n",
       "    <tr>\n",
       "      <th>3761</th>\n",
       "      <td>3761</td>\n",
       "      <td>14795</td>\n",
       "      <td>0.041038</td>\n",
       "      <td>0.921934</td>\n",
       "      <td>0.654352</td>\n",
       "      <td>0.838161</td>\n",
       "      <td>0.112213</td>\n",
       "      <td>0.363014</td>\n",
       "      <td>130.009</td>\n",
       "      <td>0.035935</td>\n",
       "      <td>...</td>\n",
       "      <td>0.0</td>\n",
       "      <td>0.0</td>\n",
       "      <td>0.0</td>\n",
       "      <td>0.0</td>\n",
       "      <td>0.0</td>\n",
       "      <td>0.0</td>\n",
       "      <td>0.0</td>\n",
       "      <td>0.0</td>\n",
       "      <td>0.0</td>\n",
       "      <td>5</td>\n",
       "    </tr>\n",
       "    <tr>\n",
       "      <th>4471</th>\n",
       "      <td>4471</td>\n",
       "      <td>17794</td>\n",
       "      <td>0.994946</td>\n",
       "      <td>0.292073</td>\n",
       "      <td>0.050897</td>\n",
       "      <td>0.110574</td>\n",
       "      <td>0.666249</td>\n",
       "      <td>0.050318</td>\n",
       "      <td>132.850</td>\n",
       "      <td>0.133360</td>\n",
       "      <td>...</td>\n",
       "      <td>0.0</td>\n",
       "      <td>0.0</td>\n",
       "      <td>0.0</td>\n",
       "      <td>0.0</td>\n",
       "      <td>0.0</td>\n",
       "      <td>0.0</td>\n",
       "      <td>0.0</td>\n",
       "      <td>0.0</td>\n",
       "      <td>0.0</td>\n",
       "      <td>0</td>\n",
       "    </tr>\n",
       "    <tr>\n",
       "      <th>2106</th>\n",
       "      <td>2106</td>\n",
       "      <td>7545</td>\n",
       "      <td>0.873320</td>\n",
       "      <td>0.242819</td>\n",
       "      <td>0.364811</td>\n",
       "      <td>0.782725</td>\n",
       "      <td>0.113607</td>\n",
       "      <td>0.059082</td>\n",
       "      <td>192.401</td>\n",
       "      <td>0.267495</td>\n",
       "      <td>...</td>\n",
       "      <td>0.0</td>\n",
       "      <td>0.0</td>\n",
       "      <td>0.0</td>\n",
       "      <td>0.0</td>\n",
       "      <td>0.0</td>\n",
       "      <td>0.0</td>\n",
       "      <td>0.0</td>\n",
       "      <td>0.0</td>\n",
       "      <td>0.0</td>\n",
       "      <td>3</td>\n",
       "    </tr>\n",
       "  </tbody>\n",
       "</table>\n",
       "<p>3 rows × 931 columns</p>\n",
       "</div>"
      ],
      "text/plain": [
       "      Unnamed: 0  track_id  acousticness  danceability    energy  \\\n",
       "3761        3761     14795      0.041038      0.921934  0.654352   \n",
       "4471        4471     17794      0.994946      0.292073  0.050897   \n",
       "2106        2106      7545      0.873320      0.242819  0.364811   \n",
       "\n",
       "      instrumentalness  liveness  speechiness    tempo   valence  ...  Salsa  \\\n",
       "3761          0.838161  0.112213     0.363014  130.009  0.035935  ...    0.0   \n",
       "4471          0.110574  0.666249     0.050318  132.850  0.133360  ...    0.0   \n",
       "2106          0.782725  0.113607     0.059082  192.401  0.267495  ...    0.0   \n",
       "\n",
       "      NuJazz  HipHop Beats  Modern Jazz  Turkish  Tango  Fado  Christmas  \\\n",
       "3761     0.0           0.0          0.0      0.0    0.0   0.0        0.0   \n",
       "4471     0.0           0.0          0.0      0.0    0.0   0.0        0.0   \n",
       "2106     0.0           0.0          0.0      0.0    0.0   0.0        0.0   \n",
       "\n",
       "      Instrumental  label  \n",
       "3761           0.0      5  \n",
       "4471           0.0      0  \n",
       "2106           0.0      3  \n",
       "\n",
       "[3 rows x 931 columns]"
      ]
     },
     "execution_count": 68,
     "metadata": {},
     "output_type": "execute_result"
    }
   ],
   "source": [
    "X.head(3)"
   ]
  },
  {
   "cell_type": "code",
   "execution_count": 69,
   "metadata": {},
   "outputs": [
    {
     "data": {
      "text/plain": [
       "1    1946\n",
       "3    1690\n",
       "4     895\n",
       "0     865\n",
       "5     462\n",
       "2     142\n",
       "Name: label, dtype: int64"
      ]
     },
     "execution_count": 69,
     "metadata": {},
     "output_type": "execute_result"
    }
   ],
   "source": [
    "X['label'].value_counts()"
   ]
  },
  {
   "cell_type": "code",
   "execution_count": 70,
   "metadata": {
    "scrolled": true
   },
   "outputs": [],
   "source": [
    "recommendations = predict((X, birch), Y)"
   ]
  },
  {
   "cell_type": "code",
   "execution_count": 71,
   "metadata": {},
   "outputs": [],
   "source": [
    "output = recommend(recommendations, metadata, Y)"
   ]
  },
  {
   "cell_type": "code",
   "execution_count": 72,
   "metadata": {},
   "outputs": [],
   "source": [
    "genre_recommend_birch, artist_name_recommend_birch, mixed_birch = output[0], output[1], output[2]"
   ]
  },
  {
   "cell_type": "code",
   "execution_count": 73,
   "metadata": {},
   "outputs": [
    {
     "data": {
      "text/plain": [
       "(3892, 4)"
      ]
     },
     "execution_count": 73,
     "metadata": {},
     "output_type": "execute_result"
    }
   ],
   "source": [
    "genre_recommend_birch.shape"
   ]
  },
  {
   "cell_type": "code",
   "execution_count": 74,
   "metadata": {},
   "outputs": [
    {
     "data": {
      "text/plain": [
       "(52, 4)"
      ]
     },
     "execution_count": 74,
     "metadata": {},
     "output_type": "execute_result"
    }
   ],
   "source": [
    "artist_name_recommend_birch.shape"
   ]
  },
  {
   "cell_type": "code",
   "execution_count": 75,
   "metadata": {},
   "outputs": [
    {
     "data": {
      "text/html": [
       "<div>\n",
       "<style scoped>\n",
       "    .dataframe tbody tr th:only-of-type {\n",
       "        vertical-align: middle;\n",
       "    }\n",
       "\n",
       "    .dataframe tbody tr th {\n",
       "        vertical-align: top;\n",
       "    }\n",
       "\n",
       "    .dataframe thead th {\n",
       "        text-align: right;\n",
       "    }\n",
       "</style>\n",
       "<table border=\"1\" class=\"dataframe\">\n",
       "  <thead>\n",
       "    <tr style=\"text-align: right;\">\n",
       "      <th></th>\n",
       "      <th>album_title</th>\n",
       "      <th>artist_name</th>\n",
       "      <th>genre</th>\n",
       "      <th>track_title</th>\n",
       "    </tr>\n",
       "    <tr>\n",
       "      <th>track_id</th>\n",
       "      <th></th>\n",
       "      <th></th>\n",
       "      <th></th>\n",
       "      <th></th>\n",
       "    </tr>\n",
       "  </thead>\n",
       "  <tbody>\n",
       "    <tr>\n",
       "      <th>153</th>\n",
       "      <td>Arc and Sender</td>\n",
       "      <td>Arc and Sender</td>\n",
       "      <td>Rock</td>\n",
       "      <td>Hundred-Year Flood</td>\n",
       "    </tr>\n",
       "    <tr>\n",
       "      <th>154</th>\n",
       "      <td>Arc and Sender</td>\n",
       "      <td>Arc and Sender</td>\n",
       "      <td>Rock</td>\n",
       "      <td>Squares And Circles</td>\n",
       "    </tr>\n",
       "    <tr>\n",
       "      <th>155</th>\n",
       "      <td>unreleased demo</td>\n",
       "      <td>Arc and Sender</td>\n",
       "      <td>Rock</td>\n",
       "      <td>Maps of the Stars Homes</td>\n",
       "    </tr>\n",
       "    <tr>\n",
       "      <th>169</th>\n",
       "      <td>Boss of Goth</td>\n",
       "      <td>Argumentix</td>\n",
       "      <td>Rock</td>\n",
       "      <td>Boss of Goth</td>\n",
       "    </tr>\n",
       "    <tr>\n",
       "      <th>170</th>\n",
       "      <td>Nightmarcher</td>\n",
       "      <td>Argumentix</td>\n",
       "      <td>Rock</td>\n",
       "      <td>Industry Standard Massacre</td>\n",
       "    </tr>\n",
       "  </tbody>\n",
       "</table>\n",
       "</div>"
      ],
      "text/plain": [
       "              album_title     artist_name genre                 track_title\n",
       "track_id                                                                   \n",
       "153        Arc and Sender  Arc and Sender  Rock          Hundred-Year Flood\n",
       "154        Arc and Sender  Arc and Sender  Rock         Squares And Circles\n",
       "155       unreleased demo  Arc and Sender  Rock     Maps of the Stars Homes\n",
       "169          Boss of Goth      Argumentix  Rock                Boss of Goth\n",
       "170          Nightmarcher      Argumentix  Rock  Industry Standard Massacre"
      ]
     },
     "execution_count": 75,
     "metadata": {},
     "output_type": "execute_result"
    }
   ],
   "source": [
    "# Genre wise recommendations\n",
    "genre_recommend_birch.head()"
   ]
  },
  {
   "cell_type": "code",
   "execution_count": 76,
   "metadata": {},
   "outputs": [
    {
     "data": {
      "text/html": [
       "<div>\n",
       "<style scoped>\n",
       "    .dataframe tbody tr th:only-of-type {\n",
       "        vertical-align: middle;\n",
       "    }\n",
       "\n",
       "    .dataframe tbody tr th {\n",
       "        vertical-align: top;\n",
       "    }\n",
       "\n",
       "    .dataframe thead th {\n",
       "        text-align: right;\n",
       "    }\n",
       "</style>\n",
       "<table border=\"1\" class=\"dataframe\">\n",
       "  <thead>\n",
       "    <tr style=\"text-align: right;\">\n",
       "      <th></th>\n",
       "      <th>album_title</th>\n",
       "      <th>artist_name</th>\n",
       "      <th>genre</th>\n",
       "      <th>track_title</th>\n",
       "    </tr>\n",
       "    <tr>\n",
       "      <th>track_id</th>\n",
       "      <th></th>\n",
       "      <th></th>\n",
       "      <th></th>\n",
       "      <th></th>\n",
       "    </tr>\n",
       "  </thead>\n",
       "  <tbody>\n",
       "    <tr>\n",
       "      <th>34660</th>\n",
       "      <td>Zehu</td>\n",
       "      <td>51%</td>\n",
       "      <td>AvantGarde|International|Blues|Jazz|</td>\n",
       "      <td>Hadri Ha'Kat</td>\n",
       "    </tr>\n",
       "    <tr>\n",
       "      <th>34661</th>\n",
       "      <td>Zehu</td>\n",
       "      <td>51%</td>\n",
       "      <td>AvantGarde|International|Blues|Jazz|</td>\n",
       "      <td>Blender Tzivoni</td>\n",
       "    </tr>\n",
       "    <tr>\n",
       "      <th>34662</th>\n",
       "      <td>Zehu</td>\n",
       "      <td>51%</td>\n",
       "      <td>AvantGarde|International|Blues|Jazz|</td>\n",
       "      <td>Naniah</td>\n",
       "    </tr>\n",
       "    <tr>\n",
       "      <th>34663</th>\n",
       "      <td>Zehu</td>\n",
       "      <td>51%</td>\n",
       "      <td>AvantGarde|International|Blues|Jazz|</td>\n",
       "      <td>Yoter Miday</td>\n",
       "    </tr>\n",
       "    <tr>\n",
       "      <th>34664</th>\n",
       "      <td>Zehu</td>\n",
       "      <td>51%</td>\n",
       "      <td>AvantGarde|International|Blues|Jazz|</td>\n",
       "      <td>Yamim, Lielot</td>\n",
       "    </tr>\n",
       "  </tbody>\n",
       "</table>\n",
       "</div>"
      ],
      "text/plain": [
       "         album_title artist_name                                 genre  \\\n",
       "track_id                                                                 \n",
       "34660           Zehu         51%  AvantGarde|International|Blues|Jazz|   \n",
       "34661           Zehu         51%  AvantGarde|International|Blues|Jazz|   \n",
       "34662           Zehu         51%  AvantGarde|International|Blues|Jazz|   \n",
       "34663           Zehu         51%  AvantGarde|International|Blues|Jazz|   \n",
       "34664           Zehu         51%  AvantGarde|International|Blues|Jazz|   \n",
       "\n",
       "              track_title  \n",
       "track_id                   \n",
       "34660        Hadri Ha'Kat  \n",
       "34661     Blender Tzivoni  \n",
       "34662              Naniah  \n",
       "34663         Yoter Miday  \n",
       "34664       Yamim, Lielot  "
      ]
     },
     "execution_count": 76,
     "metadata": {},
     "output_type": "execute_result"
    }
   ],
   "source": [
    "# Artist wise recommendations\n",
    "artist_name_recommend_birch.head()"
   ]
  },
  {
   "cell_type": "code",
   "execution_count": 77,
   "metadata": {},
   "outputs": [
    {
     "data": {
      "text/html": [
       "<div>\n",
       "<style scoped>\n",
       "    .dataframe tbody tr th:only-of-type {\n",
       "        vertical-align: middle;\n",
       "    }\n",
       "\n",
       "    .dataframe tbody tr th {\n",
       "        vertical-align: top;\n",
       "    }\n",
       "\n",
       "    .dataframe thead th {\n",
       "        text-align: right;\n",
       "    }\n",
       "</style>\n",
       "<table border=\"1\" class=\"dataframe\">\n",
       "  <thead>\n",
       "    <tr style=\"text-align: right;\">\n",
       "      <th></th>\n",
       "      <th>album_title</th>\n",
       "      <th>artist_name</th>\n",
       "      <th>genre</th>\n",
       "      <th>track_title</th>\n",
       "    </tr>\n",
       "    <tr>\n",
       "      <th>track_id</th>\n",
       "      <th></th>\n",
       "      <th></th>\n",
       "      <th></th>\n",
       "      <th></th>\n",
       "    </tr>\n",
       "  </thead>\n",
       "  <tbody>\n",
       "    <tr>\n",
       "      <th>7545</th>\n",
       "      <td>Live at WFMU on Liz Berg's Show on 9/29/2008</td>\n",
       "      <td>Antiguo Automata Mexicano</td>\n",
       "      <td>Electronic</td>\n",
       "      <td>Chez Nobody</td>\n",
       "    </tr>\n",
       "    <tr>\n",
       "      <th>1306</th>\n",
       "      <td>Electrified Being</td>\n",
       "      <td>Nicky Andrews</td>\n",
       "      <td>Electronic</td>\n",
       "      <td>Affective-2</td>\n",
       "    </tr>\n",
       "    <tr>\n",
       "      <th>19132</th>\n",
       "      <td>Paul \"Wine\" Jones, T-Model Ford &amp; Kenny Brown ...</td>\n",
       "      <td>T-Model Ford</td>\n",
       "      <td>Blues</td>\n",
       "      <td>I Love My Babe</td>\n",
       "    </tr>\n",
       "    <tr>\n",
       "      <th>3924</th>\n",
       "      <td>Live at WFMU on Scott's Show on 5/26/2000</td>\n",
       "      <td>Mink Lungs</td>\n",
       "      <td>Rock</td>\n",
       "      <td>Medley - Ultimate Slumber Party</td>\n",
       "    </tr>\n",
       "    <tr>\n",
       "      <th>11870</th>\n",
       "      <td>Wildahead Portibeast</td>\n",
       "      <td>Wildahead Portibeast</td>\n",
       "      <td>HipHop</td>\n",
       "      <td>What The Truth Should Be</td>\n",
       "    </tr>\n",
       "  </tbody>\n",
       "</table>\n",
       "</div>"
      ],
      "text/plain": [
       "                                                album_title  \\\n",
       "track_id                                                      \n",
       "7545           Live at WFMU on Liz Berg's Show on 9/29/2008   \n",
       "1306                                      Electrified Being   \n",
       "19132     Paul \"Wine\" Jones, T-Model Ford & Kenny Brown ...   \n",
       "3924              Live at WFMU on Scott's Show on 5/26/2000   \n",
       "11870                                  Wildahead Portibeast   \n",
       "\n",
       "                        artist_name       genre  \\\n",
       "track_id                                          \n",
       "7545      Antiguo Automata Mexicano  Electronic   \n",
       "1306                  Nicky Andrews  Electronic   \n",
       "19132                  T-Model Ford       Blues   \n",
       "3924                     Mink Lungs        Rock   \n",
       "11870          Wildahead Portibeast      HipHop   \n",
       "\n",
       "                              track_title  \n",
       "track_id                                   \n",
       "7545                          Chez Nobody  \n",
       "1306                          Affective-2  \n",
       "19132                      I Love My Babe  \n",
       "3924      Medley - Ultimate Slumber Party  \n",
       "11870            What The Truth Should Be  "
      ]
     },
     "execution_count": 77,
     "metadata": {},
     "output_type": "execute_result"
    }
   ],
   "source": [
    "# Mixed Recommendations\n",
    "mixed_birch.head()"
   ]
  }
 ],
 "metadata": {
  "kernelspec": {
   "display_name": "Python 3",
   "language": "python",
   "name": "python3"
  },
  "language_info": {
   "codemirror_mode": {
    "name": "ipython",
    "version": 3
   },
   "file_extension": ".py",
   "mimetype": "text/x-python",
   "name": "python",
   "nbconvert_exporter": "python",
   "pygments_lexer": "ipython3",
   "version": "3.8.5"
  }
 },
 "nbformat": 4,
 "nbformat_minor": 2
}
